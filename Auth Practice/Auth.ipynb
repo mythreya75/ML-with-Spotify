{
 "cells": [
  {
   "cell_type": "code",
   "execution_count": 1,
   "id": "37748df4",
   "metadata": {},
   "outputs": [
    {
     "name": "stdout",
     "output_type": "stream",
     "text": [
      "Requirement already satisfied: spotipy in /Users/mythreyavangapandu/opt/anaconda3/lib/python3.9/site-packages (2.20.0)\n",
      "Requirement already satisfied: requests>=2.25.0 in /Users/mythreyavangapandu/opt/anaconda3/lib/python3.9/site-packages (from spotipy) (2.26.0)\n",
      "Requirement already satisfied: six>=1.15.0 in /Users/mythreyavangapandu/opt/anaconda3/lib/python3.9/site-packages (from spotipy) (1.16.0)\n",
      "Requirement already satisfied: redis>=3.5.3 in /Users/mythreyavangapandu/opt/anaconda3/lib/python3.9/site-packages (from spotipy) (4.3.4)\n",
      "Requirement already satisfied: urllib3>=1.26.0 in /Users/mythreyavangapandu/opt/anaconda3/lib/python3.9/site-packages (from spotipy) (1.26.7)\n",
      "Requirement already satisfied: async-timeout>=4.0.2 in /Users/mythreyavangapandu/opt/anaconda3/lib/python3.9/site-packages (from redis>=3.5.3->spotipy) (4.0.2)\n",
      "Requirement already satisfied: deprecated>=1.2.3 in /Users/mythreyavangapandu/opt/anaconda3/lib/python3.9/site-packages (from redis>=3.5.3->spotipy) (1.2.13)\n",
      "Requirement already satisfied: packaging>=20.4 in /Users/mythreyavangapandu/opt/anaconda3/lib/python3.9/site-packages (from redis>=3.5.3->spotipy) (21.0)\n",
      "Requirement already satisfied: wrapt<2,>=1.10 in /Users/mythreyavangapandu/opt/anaconda3/lib/python3.9/site-packages (from deprecated>=1.2.3->redis>=3.5.3->spotipy) (1.12.1)\n",
      "Requirement already satisfied: pyparsing>=2.0.2 in /Users/mythreyavangapandu/opt/anaconda3/lib/python3.9/site-packages (from packaging>=20.4->redis>=3.5.3->spotipy) (3.0.4)\n",
      "Requirement already satisfied: charset-normalizer~=2.0.0 in /Users/mythreyavangapandu/opt/anaconda3/lib/python3.9/site-packages (from requests>=2.25.0->spotipy) (2.0.4)\n",
      "Requirement already satisfied: idna<4,>=2.5 in /Users/mythreyavangapandu/opt/anaconda3/lib/python3.9/site-packages (from requests>=2.25.0->spotipy) (3.2)\n",
      "Requirement already satisfied: certifi>=2017.4.17 in /Users/mythreyavangapandu/opt/anaconda3/lib/python3.9/site-packages (from requests>=2.25.0->spotipy) (2021.10.8)\n",
      "Note: you may need to restart the kernel to use updated packages.\n"
     ]
    }
   ],
   "source": [
    "pip install spotipy"
   ]
  },
  {
   "cell_type": "code",
   "execution_count": 2,
   "id": "39252eb4",
   "metadata": {},
   "outputs": [
    {
     "name": "stdout",
     "output_type": "stream",
     "text": [
      "Requirement already satisfied: requests in /Users/mythreyavangapandu/opt/anaconda3/lib/python3.9/site-packages (2.26.0)\n",
      "Requirement already satisfied: certifi>=2017.4.17 in /Users/mythreyavangapandu/opt/anaconda3/lib/python3.9/site-packages (from requests) (2021.10.8)\n",
      "Requirement already satisfied: urllib3<1.27,>=1.21.1 in /Users/mythreyavangapandu/opt/anaconda3/lib/python3.9/site-packages (from requests) (1.26.7)\n",
      "Requirement already satisfied: charset-normalizer~=2.0.0 in /Users/mythreyavangapandu/opt/anaconda3/lib/python3.9/site-packages (from requests) (2.0.4)\n",
      "Requirement already satisfied: idna<4,>=2.5 in /Users/mythreyavangapandu/opt/anaconda3/lib/python3.9/site-packages (from requests) (3.2)\n"
     ]
    }
   ],
   "source": [
    "!pip install requests"
   ]
  },
  {
   "cell_type": "code",
   "execution_count": 3,
   "id": "503e5fb6",
   "metadata": {},
   "outputs": [],
   "source": [
    "import pandas as pd\n",
    "import numpy as np\n",
    "import base64 \n",
    "import requests\n",
    "import datetime\n",
    "\n",
    "from sklearn import tree\n",
    "from sklearn.tree import DecisionTreeClassifier\n",
    "from sklearn.model_selection import train_test_split\n",
    "from matplotlib import pyplot as pit\n",
    "import seaborn as sns\n",
    "\n",
    "%matplotlib inline\n"
   ]
  },
  {
   "cell_type": "code",
   "execution_count": 4,
   "id": "817a0fe1",
   "metadata": {},
   "outputs": [],
   "source": [
    "client_id = '10abcd80153e480aa1309b5782db7a0a'\n",
    "client_secret = 'c6c037c908344f439fe469dcfbfb8918'"
   ]
  },
  {
   "cell_type": "code",
   "execution_count": 5,
   "id": "b5040f6e",
   "metadata": {},
   "outputs": [],
   "source": [
    "client_creds = f\"{client_id}:{client_secret}\""
   ]
  },
  {
   "cell_type": "code",
   "execution_count": 6,
   "id": "48aaa493",
   "metadata": {},
   "outputs": [],
   "source": [
    "client_creds_b64 = base64.b64encode(client_creds.encode())"
   ]
  },
  {
   "cell_type": "code",
   "execution_count": 7,
   "id": "6b385568",
   "metadata": {},
   "outputs": [],
   "source": [
    "# Do a lookup for token\n",
    "# (for future requests)\n",
    "token_url = \"https://accounts.spotify.com/api/token\"\n",
    "method = \"POST\"\n",
    "\n",
    "token_data = {\n",
    "    \"grant_type\" : \"client_credentials\"\n",
    "}\n",
    "\n",
    "token_headers = {\n",
    "    \"Authorization\" : f\"Basic {client_creds_b64.decode()}\"\n",
    "}"
   ]
  },
  {
   "cell_type": "code",
   "execution_count": 8,
   "id": "6ff9471a",
   "metadata": {},
   "outputs": [],
   "source": [
    "r = requests.post(token_url, data=token_data, headers=token_headers)\n",
    "token_response_data = r.json()"
   ]
  },
  {
   "cell_type": "code",
   "execution_count": 9,
   "id": "c78c32d4",
   "metadata": {},
   "outputs": [],
   "source": [
    "right_now = datetime.datetime.now()\n",
    "access_token = token_response_data['access_token']\n",
    "expires_in = token_response_data['expires_in'] # in seconds\n",
    "expires = right_now + datetime.timedelta(seconds=expires_in)\n",
    "did_expire = expires < right_now"
   ]
  },
  {
   "cell_type": "code",
   "execution_count": 10,
   "id": "926c348c",
   "metadata": {},
   "outputs": [],
   "source": [
    "#ye_uri = 'spotify:artist:5K4W6rqBFWDnAN6FQUkS6x'\n",
    "#spotify = spotipy.Spotify(client_credentials_manager=SpotifyClientCredentials())"
   ]
  },
  {
   "cell_type": "code",
   "execution_count": 11,
   "id": "401c822a",
   "metadata": {},
   "outputs": [],
   "source": [
    "#results = spotify.artist_albums(artist_id=ye_uri, album_type='album')"
   ]
  },
  {
   "cell_type": "code",
   "execution_count": null,
   "id": "e71ac23f",
   "metadata": {},
   "outputs": [],
   "source": []
  }
 ],
 "metadata": {
  "kernelspec": {
   "display_name": "Python 3 (ipykernel)",
   "language": "python",
   "name": "python3"
  },
  "language_info": {
   "codemirror_mode": {
    "name": "ipython",
    "version": 3
   },
   "file_extension": ".py",
   "mimetype": "text/x-python",
   "name": "python",
   "nbconvert_exporter": "python",
   "pygments_lexer": "ipython3",
   "version": "3.9.7"
  }
 },
 "nbformat": 4,
 "nbformat_minor": 5
}
