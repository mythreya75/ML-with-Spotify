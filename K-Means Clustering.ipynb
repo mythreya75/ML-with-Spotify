{
 "cells": [
  {
   "cell_type": "code",
   "execution_count": 14,
   "id": "10517184",
   "metadata": {
    "scrolled": true
   },
   "outputs": [
    {
     "name": "stdout",
     "output_type": "stream",
     "text": [
      "13\n"
     ]
    }
   ],
   "source": [
    "import pandas as pd\n",
    "import numpy as np\n",
    "\n",
    "df = pd.read_csv('out.csv')\n",
    "del df['song']\n"
   ]
  },
  {
   "cell_type": "code",
   "execution_count": 15,
   "id": "c2fa989f",
   "metadata": {},
   "outputs": [],
   "source": [
    "#this calculates the distance between two n-dimensional points\n",
    "# a song in this case is a 13 dimensional point (13 attributes)\n",
    "def calcDist(p1,p2):\n",
    "    dist = 0\n",
    "    for i in range(p1.size):\n",
    "        dist += (p1[i]-p2[i])**2\n",
    "    return dist**0.5"
   ]
  },
  {
   "cell_type": "code",
   "execution_count": 16,
   "id": "1dfcbf5a",
   "metadata": {},
   "outputs": [],
   "source": [
    "#this calculates the numerical center of all the points in a cluster\n",
    "# the center calculated here is not a point, but a number\n",
    "def calcNewCenter():\n",
    "    newCenters = [0]*len(clusters.keys())  \n",
    "    c = 0\n",
    "    \n",
    "    for cluster in clusters:\n",
    "        #print(c)\n",
    "        newCenters[c] = [0]*len(df.iloc[0])\n",
    "        for song in clusters[cluster]:\n",
    "            for x in range(len(newCenters[c])):\n",
    "                newCenters[c][x] += df.iloc[song][x]/len(clusters[cluster])\n",
    "                #print(index)\n",
    "        c+=1\n",
    "    return newCenters"
   ]
  },
  {
   "cell_type": "code",
   "execution_count": 17,
   "id": "afb039bc",
   "metadata": {},
   "outputs": [],
   "source": [
    "# this calculates the point closest to the newly calculated numerical centers and returns the new center points\n",
    "def calcNewCenterPoints():\n",
    "    newCenterPoints = [0]*len(clusters.keys())\n",
    "    c = 0\n",
    "    for cluster in clusters:\n",
    "        currMin = 100000\n",
    "        curr = -10000\n",
    "        for song in clusters[cluster]:\n",
    "            if calcDist(df.iloc[song],newPoints[c]) < currMin:\n",
    "                currMin = calcDist(df.iloc[song],newPoints[c])\n",
    "                curr = song\n",
    "        newCenterPoints[c] = curr\n",
    "        c+=1\n",
    "    print(\"NEW CENTER:\")\n",
    "    print(newCenterPoints)\n",
    "    return newCenterPoints"
   ]
  },
  {
   "cell_type": "code",
   "execution_count": 19,
   "id": "df217b2b",
   "metadata": {},
   "outputs": [],
   "source": [
    "#initially choose random centers\n",
    "# choose as many centers as you want clusters\n",
    "centers = [1,100,4456,13455]\n",
    "#key: cluster center index\n",
    "# value: array of all indexes that are in this cluster\n",
    "clusters = {}"
   ]
  },
  {
   "cell_type": "code",
   "execution_count": 20,
   "id": "24eb4dbd",
   "metadata": {},
   "outputs": [
    {
     "name": "stdout",
     "output_type": "stream",
     "text": [
      "[1, 100, 4456, 13455]\n",
      "CURR CENTER:\n",
      "[1, 100, 4456, 13455]\n",
      "NEW CENTER:\n",
      "[1759, 5018, 10837, 7847]\n",
      "CURR CENTER:\n",
      "[1759, 5018, 10837, 7847]\n",
      "NEW CENTER:\n",
      "[6531, 9085, 11571, 6335]\n",
      "CURR CENTER:\n",
      "[6531, 9085, 11571, 6335]\n"
     ]
    },
    {
     "ename": "KeyboardInterrupt",
     "evalue": "",
     "output_type": "error",
     "traceback": [
      "\u001b[0;31m---------------------------------------------------------------------------\u001b[0m",
      "\u001b[0;31mKeyboardInterrupt\u001b[0m                         Traceback (most recent call last)",
      "Input \u001b[0;32mIn [20]\u001b[0m, in \u001b[0;36m<cell line: 3>\u001b[0;34m()\u001b[0m\n\u001b[1;32m     18\u001b[0m         clusters[curr] \u001b[38;5;241m=\u001b[39m [index]\n\u001b[1;32m     19\u001b[0m     \u001b[38;5;66;03m#print(\"Point #\" + str(index) + \" is closest to center #\" + str(curr))\u001b[39;00m\n\u001b[0;32m---> 21\u001b[0m newPoints \u001b[38;5;241m=\u001b[39m \u001b[43mcalcNewCenter\u001b[49m\u001b[43m(\u001b[49m\u001b[43m)\u001b[49m\n\u001b[1;32m     22\u001b[0m newCenterPoints \u001b[38;5;241m=\u001b[39m calcNewCenterPoints()\n\u001b[1;32m     23\u001b[0m keepClustering \u001b[38;5;241m=\u001b[39m get_ipython()\u001b[38;5;241m.\u001b[39mgetoutput(\u001b[38;5;124m'\u001b[39m\u001b[38;5;124m(np.array_equal(newCenterPoints,center))\u001b[39m\u001b[38;5;124m'\u001b[39m)\n",
      "Input \u001b[0;32mIn [16]\u001b[0m, in \u001b[0;36mcalcNewCenter\u001b[0;34m()\u001b[0m\n\u001b[1;32m      8\u001b[0m \u001b[38;5;28;01mfor\u001b[39;00m song \u001b[38;5;129;01min\u001b[39;00m clusters[cluster]:\n\u001b[1;32m      9\u001b[0m     \u001b[38;5;28;01mfor\u001b[39;00m x \u001b[38;5;129;01min\u001b[39;00m \u001b[38;5;28mrange\u001b[39m(\u001b[38;5;28mlen\u001b[39m(newCenters[c])):\n\u001b[0;32m---> 10\u001b[0m         newCenters[c][x] \u001b[38;5;241m+\u001b[39m\u001b[38;5;241m=\u001b[39m \u001b[43mdf\u001b[49m\u001b[38;5;241;43m.\u001b[39;49m\u001b[43miloc\u001b[49m\u001b[43m[\u001b[49m\u001b[43msong\u001b[49m\u001b[43m]\u001b[49m[x]\u001b[38;5;241m/\u001b[39m\u001b[38;5;28mlen\u001b[39m(clusters[cluster])\n\u001b[1;32m     11\u001b[0m         \u001b[38;5;66;03m#print(index)\u001b[39;00m\n\u001b[1;32m     12\u001b[0m c\u001b[38;5;241m+\u001b[39m\u001b[38;5;241m=\u001b[39m\u001b[38;5;241m1\u001b[39m\n",
      "File \u001b[0;32m/Library/Frameworks/Python.framework/Versions/3.8/lib/python3.8/site-packages/pandas/core/indexing.py:895\u001b[0m, in \u001b[0;36m_LocationIndexer.__getitem__\u001b[0;34m(self, key)\u001b[0m\n\u001b[1;32m    892\u001b[0m axis \u001b[38;5;241m=\u001b[39m \u001b[38;5;28mself\u001b[39m\u001b[38;5;241m.\u001b[39maxis \u001b[38;5;129;01mor\u001b[39;00m \u001b[38;5;241m0\u001b[39m\n\u001b[1;32m    894\u001b[0m maybe_callable \u001b[38;5;241m=\u001b[39m com\u001b[38;5;241m.\u001b[39mapply_if_callable(key, \u001b[38;5;28mself\u001b[39m\u001b[38;5;241m.\u001b[39mobj)\n\u001b[0;32m--> 895\u001b[0m \u001b[38;5;28;01mreturn\u001b[39;00m \u001b[38;5;28;43mself\u001b[39;49m\u001b[38;5;241;43m.\u001b[39;49m\u001b[43m_getitem_axis\u001b[49m\u001b[43m(\u001b[49m\u001b[43mmaybe_callable\u001b[49m\u001b[43m,\u001b[49m\u001b[43m \u001b[49m\u001b[43maxis\u001b[49m\u001b[38;5;241;43m=\u001b[39;49m\u001b[43maxis\u001b[49m\u001b[43m)\u001b[49m\n",
      "File \u001b[0;32m/Library/Frameworks/Python.framework/Versions/3.8/lib/python3.8/site-packages/pandas/core/indexing.py:1503\u001b[0m, in \u001b[0;36m_iLocIndexer._getitem_axis\u001b[0;34m(self, key, axis)\u001b[0m\n\u001b[1;32m   1500\u001b[0m \u001b[38;5;66;03m# validate the location\u001b[39;00m\n\u001b[1;32m   1501\u001b[0m \u001b[38;5;28mself\u001b[39m\u001b[38;5;241m.\u001b[39m_validate_integer(key, axis)\n\u001b[0;32m-> 1503\u001b[0m \u001b[38;5;28;01mreturn\u001b[39;00m \u001b[38;5;28;43mself\u001b[39;49m\u001b[38;5;241;43m.\u001b[39;49m\u001b[43mobj\u001b[49m\u001b[38;5;241;43m.\u001b[39;49m\u001b[43m_ixs\u001b[49m\u001b[43m(\u001b[49m\u001b[43mkey\u001b[49m\u001b[43m,\u001b[49m\u001b[43m \u001b[49m\u001b[43maxis\u001b[49m\u001b[38;5;241;43m=\u001b[39;49m\u001b[43maxis\u001b[49m\u001b[43m)\u001b[49m\n",
      "File \u001b[0;32m/Library/Frameworks/Python.framework/Versions/3.8/lib/python3.8/site-packages/pandas/core/frame.py:2947\u001b[0m, in \u001b[0;36mDataFrame._ixs\u001b[0;34m(self, i, axis)\u001b[0m\n\u001b[1;32m   2945\u001b[0m \u001b[38;5;66;03m# irow\u001b[39;00m\n\u001b[1;32m   2946\u001b[0m \u001b[38;5;28;01mif\u001b[39;00m axis \u001b[38;5;241m==\u001b[39m \u001b[38;5;241m0\u001b[39m:\n\u001b[0;32m-> 2947\u001b[0m     new_values \u001b[38;5;241m=\u001b[39m \u001b[38;5;28;43mself\u001b[39;49m\u001b[38;5;241;43m.\u001b[39;49m\u001b[43m_mgr\u001b[49m\u001b[38;5;241;43m.\u001b[39;49m\u001b[43mfast_xs\u001b[49m\u001b[43m(\u001b[49m\u001b[43mi\u001b[49m\u001b[43m)\u001b[49m\n\u001b[1;32m   2949\u001b[0m     \u001b[38;5;66;03m# if we are a copy, mark as such\u001b[39;00m\n\u001b[1;32m   2950\u001b[0m     copy \u001b[38;5;241m=\u001b[39m \u001b[38;5;28misinstance\u001b[39m(new_values, np\u001b[38;5;241m.\u001b[39mndarray) \u001b[38;5;129;01mand\u001b[39;00m new_values\u001b[38;5;241m.\u001b[39mbase \u001b[38;5;129;01mis\u001b[39;00m \u001b[38;5;28;01mNone\u001b[39;00m\n",
      "File \u001b[0;32m/Library/Frameworks/Python.framework/Versions/3.8/lib/python3.8/site-packages/pandas/core/internals/managers.py:955\u001b[0m, in \u001b[0;36mBlockManager.fast_xs\u001b[0;34m(self, loc)\u001b[0m\n\u001b[1;32m    952\u001b[0m \u001b[38;5;28;01mif\u001b[39;00m \u001b[38;5;28mlen\u001b[39m(\u001b[38;5;28mself\u001b[39m\u001b[38;5;241m.\u001b[39mblocks) \u001b[38;5;241m==\u001b[39m \u001b[38;5;241m1\u001b[39m:\n\u001b[1;32m    953\u001b[0m     \u001b[38;5;28;01mreturn\u001b[39;00m \u001b[38;5;28mself\u001b[39m\u001b[38;5;241m.\u001b[39mblocks[\u001b[38;5;241m0\u001b[39m]\u001b[38;5;241m.\u001b[39miget((\u001b[38;5;28mslice\u001b[39m(\u001b[38;5;28;01mNone\u001b[39;00m), loc))\n\u001b[0;32m--> 955\u001b[0m dtype \u001b[38;5;241m=\u001b[39m \u001b[43m_interleaved_dtype\u001b[49m\u001b[43m(\u001b[49m\u001b[38;5;28;43mself\u001b[39;49m\u001b[38;5;241;43m.\u001b[39;49m\u001b[43mblocks\u001b[49m\u001b[43m)\u001b[49m\n\u001b[1;32m    957\u001b[0m n \u001b[38;5;241m=\u001b[39m \u001b[38;5;28mlen\u001b[39m(\u001b[38;5;28mself\u001b[39m)\n\u001b[1;32m    958\u001b[0m \u001b[38;5;28;01mif\u001b[39;00m is_extension_array_dtype(dtype):\n\u001b[1;32m    959\u001b[0m     \u001b[38;5;66;03m# we'll eventually construct an ExtensionArray.\u001b[39;00m\n",
      "File \u001b[0;32m/Library/Frameworks/Python.framework/Versions/3.8/lib/python3.8/site-packages/pandas/core/internals/managers.py:1903\u001b[0m, in \u001b[0;36m_interleaved_dtype\u001b[0;34m(blocks)\u001b[0m\n\u001b[1;32m   1900\u001b[0m \u001b[38;5;28;01mif\u001b[39;00m \u001b[38;5;129;01mnot\u001b[39;00m \u001b[38;5;28mlen\u001b[39m(blocks):\n\u001b[1;32m   1901\u001b[0m     \u001b[38;5;28;01mreturn\u001b[39;00m \u001b[38;5;28;01mNone\u001b[39;00m\n\u001b[0;32m-> 1903\u001b[0m \u001b[38;5;28;01mreturn\u001b[39;00m \u001b[43mfind_common_type\u001b[49m\u001b[43m(\u001b[49m\u001b[43m[\u001b[49m\u001b[43mb\u001b[49m\u001b[38;5;241;43m.\u001b[39;49m\u001b[43mdtype\u001b[49m\u001b[43m \u001b[49m\u001b[38;5;28;43;01mfor\u001b[39;49;00m\u001b[43m \u001b[49m\u001b[43mb\u001b[49m\u001b[43m \u001b[49m\u001b[38;5;129;43;01min\u001b[39;49;00m\u001b[43m \u001b[49m\u001b[43mblocks\u001b[49m\u001b[43m]\u001b[49m\u001b[43m)\u001b[49m\n",
      "File \u001b[0;32m/Library/Frameworks/Python.framework/Versions/3.8/lib/python3.8/site-packages/pandas/core/dtypes/cast.py:1569\u001b[0m, in \u001b[0;36mfind_common_type\u001b[0;34m(types)\u001b[0m\n\u001b[1;32m   1566\u001b[0m         \u001b[38;5;28;01mif\u001b[39;00m is_integer_dtype(t) \u001b[38;5;129;01mor\u001b[39;00m is_float_dtype(t) \u001b[38;5;129;01mor\u001b[39;00m is_complex_dtype(t):\n\u001b[1;32m   1567\u001b[0m             \u001b[38;5;28;01mreturn\u001b[39;00m np\u001b[38;5;241m.\u001b[39mdtype(\u001b[38;5;124m\"\u001b[39m\u001b[38;5;124mobject\u001b[39m\u001b[38;5;124m\"\u001b[39m)\n\u001b[0;32m-> 1569\u001b[0m \u001b[38;5;28;01mreturn\u001b[39;00m \u001b[43mnp\u001b[49m\u001b[38;5;241;43m.\u001b[39;49m\u001b[43mfind_common_type\u001b[49m\u001b[43m(\u001b[49m\u001b[43mtypes\u001b[49m\u001b[43m,\u001b[49m\u001b[43m \u001b[49m\u001b[43m[\u001b[49m\u001b[43m]\u001b[49m\u001b[43m)\u001b[49m\n",
      "File \u001b[0;32m/Library/Frameworks/Python.framework/Versions/3.8/lib/python3.8/site-packages/numpy/core/numerictypes.py:624\u001b[0m, in \u001b[0;36mfind_common_type\u001b[0;34m(array_types, scalar_types)\u001b[0m\n\u001b[1;32m    621\u001b[0m array_types \u001b[38;5;241m=\u001b[39m [dtype(x) \u001b[38;5;28;01mfor\u001b[39;00m x \u001b[38;5;129;01min\u001b[39;00m array_types]\n\u001b[1;32m    622\u001b[0m scalar_types \u001b[38;5;241m=\u001b[39m [dtype(x) \u001b[38;5;28;01mfor\u001b[39;00m x \u001b[38;5;129;01min\u001b[39;00m scalar_types]\n\u001b[0;32m--> 624\u001b[0m maxa \u001b[38;5;241m=\u001b[39m \u001b[43m_can_coerce_all\u001b[49m\u001b[43m(\u001b[49m\u001b[43marray_types\u001b[49m\u001b[43m)\u001b[49m\n\u001b[1;32m    625\u001b[0m maxsc \u001b[38;5;241m=\u001b[39m _can_coerce_all(scalar_types)\n\u001b[1;32m    627\u001b[0m \u001b[38;5;28;01mif\u001b[39;00m maxa \u001b[38;5;129;01mis\u001b[39;00m \u001b[38;5;28;01mNone\u001b[39;00m:\n",
      "File \u001b[0;32m/Library/Frameworks/Python.framework/Versions/3.8/lib/python3.8/site-packages/numpy/core/numerictypes.py:554\u001b[0m, in \u001b[0;36m_can_coerce_all\u001b[0;34m(dtypelist, start)\u001b[0m\n\u001b[1;32m    552\u001b[0m \u001b[38;5;28;01mwhile\u001b[39;00m thisind \u001b[38;5;241m<\u001b[39m __len_test_types:\n\u001b[1;32m    553\u001b[0m     newdtype \u001b[38;5;241m=\u001b[39m dtype(__test_types[thisind])\n\u001b[0;32m--> 554\u001b[0m     numcoerce \u001b[38;5;241m=\u001b[39m \u001b[38;5;28mlen\u001b[39m([x \u001b[38;5;28;01mfor\u001b[39;00m x \u001b[38;5;129;01min\u001b[39;00m dtypelist \u001b[38;5;28;01mif\u001b[39;00m newdtype \u001b[38;5;241m>\u001b[39m\u001b[38;5;241m=\u001b[39m x])\n\u001b[1;32m    555\u001b[0m     \u001b[38;5;28;01mif\u001b[39;00m numcoerce \u001b[38;5;241m==\u001b[39m N:\n\u001b[1;32m    556\u001b[0m         \u001b[38;5;28;01mreturn\u001b[39;00m newdtype\n",
      "\u001b[0;31mKeyboardInterrupt\u001b[0m: "
     ]
    }
   ],
   "source": [
    "#driver code\n",
    "\n",
    "#keepClustering is a boolean that checks if the cluster centers have changed, if not then it stops the loop\n",
    "keepClustering = True\n",
    "while keepClustering:\n",
    "    print(\"CURR CENTER:\")\n",
    "    print(centers)\n",
    "    #this part goes through and finds which center each point/song is closest to and saves it under clusters\n",
    "    for (index,song) in df.iterrows():\n",
    "        currMin = 100000000\n",
    "        curr = 0\n",
    "        for i in range(len(centers)):\n",
    "            if calcDist(song,df.iloc[centers[i]]) < currMin:\n",
    "                currMin = calcDist(song,df.iloc[centers[i]])\n",
    "                curr = i\n",
    "        if curr in clusters:\n",
    "            clusters[curr].append(index)\n",
    "        else:\n",
    "            clusters[curr] = [index]\n",
    "    \n",
    "    #calculate the new numerical center for each cluster\n",
    "    newPoints = calcNewCenter()\n",
    "    #calculate the actual indices of points that are closest to the numerical center\n",
    "    newCenterPoints = calcNewCenterPoints()\n",
    "    #check if the new centers and the old centers are equal.\n",
    "    # if they are equal then the boolaen is false, and clustering is finished\n",
    "    keepClustering = !(np.array_equal(newCenterPoints,center))\n",
    "    #assigning the centers array the new center point indices\n",
    "    centers = newCenterPoints\n"
   ]
  },
  {
   "cell_type": "code",
   "execution_count": null,
   "id": "559abccb",
   "metadata": {},
   "outputs": [],
   "source": []
  }
 ],
 "metadata": {
  "kernelspec": {
   "display_name": "Python 3 (ipykernel)",
   "language": "python",
   "name": "python3"
  },
  "language_info": {
   "codemirror_mode": {
    "name": "ipython",
    "version": 3
   },
   "file_extension": ".py",
   "mimetype": "text/x-python",
   "name": "python",
   "nbconvert_exporter": "python",
   "pygments_lexer": "ipython3",
   "version": "3.8.5"
  }
 },
 "nbformat": 4,
 "nbformat_minor": 5
}
