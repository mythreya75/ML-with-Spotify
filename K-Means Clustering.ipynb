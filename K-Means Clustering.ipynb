{
 "cells": [
  {
   "cell_type": "code",
   "execution_count": 66,
   "id": "10517184",
   "metadata": {
    "scrolled": true
   },
   "outputs": [],
   "source": [
    "import pandas as pd\n",
    "import numpy as np\n",
    "\n",
    "df = pd.read_csv('out.csv')\n",
    "songsDF = df.pop('song')\n",
    "yearsDF = df.pop('release_year')\n",
    "durationDF = df.pop('duration_ms')\n"
   ]
  },
  {
   "cell_type": "code",
   "execution_count": 67,
   "id": "c2fa989f",
   "metadata": {},
   "outputs": [],
   "source": [
    "#this calculates the distance between two n-dimensional points\n",
    "# a song in this case is a 13 dimensional point (13 attributes)\n",
    "def calcDist(p1,p2):\n",
    "    dist = 0\n",
    "    for i in range(p1.size):\n",
    "        dist += (p1[i]-p2[i])**2\n",
    "    return dist**0.5"
   ]
  },
  {
   "cell_type": "code",
   "execution_count": 68,
   "id": "1dfcbf5a",
   "metadata": {},
   "outputs": [],
   "source": [
    "#this calculates the numerical center of all the points in a cluster\n",
    "# the center calculated here is not a point, but a number\n",
    "def calcNewCenter():\n",
    "    newCenters = [0]*len(clusters.keys())  \n",
    "    c = 0\n",
    "    for cluster in clusters:\n",
    "        #print(c)\n",
    "        newCenters[c] = [0]*len(df.iloc[0])\n",
    "        for x in range(len(newCenters[c])):\n",
    "            newCenters[c][x] += df.iloc[cluster][x]/len(clusters[cluster])\n",
    "        for song in clusters[cluster]:\n",
    "            for x in range(len(newCenters[c])):\n",
    "                newCenters[c][x] += df.iloc[song][x]/len(clusters[cluster])\n",
    "                #print(index)\n",
    "        c+=1\n",
    "    return newCenters"
   ]
  },
  {
   "cell_type": "code",
   "execution_count": 69,
   "id": "afb039bc",
   "metadata": {},
   "outputs": [],
   "source": [
    "# this calculates the point closest to the newly calculated numerical centers and returns the new center points\n",
    "def calcNewCenterPoints():\n",
    "    newCenterPoints = [0]*len(clusters.keys())\n",
    "    c = 0\n",
    "    for cluster in clusters:\n",
    "        currMin = calcDist(df.iloc[cluster],newPoints[c])\n",
    "        curr = cluster\n",
    "        for song in clusters[cluster]:\n",
    "            if calcDist(df.iloc[song],newPoints[c]) < currMin:\n",
    "                currMin = calcDist(df.iloc[song],newPoints[c])\n",
    "                curr = song\n",
    "        newCenterPoints[c] = curr\n",
    "        c+=1\n",
    "    print(\"NEW CENTER:\")\n",
    "    print(newCenterPoints)\n",
    "    return newCenterPoints"
   ]
  },
  {
   "cell_type": "code",
   "execution_count": 70,
   "id": "df217b2b",
   "metadata": {},
   "outputs": [],
   "source": [
    "#initially choose random centers\n",
    "# choose as many centers as you want clusters\n",
    "centers = [1,2,3,4,5,6,7]\n",
    "\n",
    "#if you want to skip the processing, you can plug in these cluster centers that work\n",
    "#centers = [9952, 2769, 2890, 2648] \n",
    "#centers = [8589, 2520, 5511, 5556, 4382, 11140, 396]\n",
    "\n",
    "#key: cluster center index\n",
    "# value: array of all indexes that are in this cluster\n",
    "clusters = {}"
   ]
  },
  {
   "cell_type": "code",
   "execution_count": 71,
   "id": "24eb4dbd",
   "metadata": {
    "scrolled": true
   },
   "outputs": [
    {
     "name": "stdout",
     "output_type": "stream",
     "text": [
      "CURR CENTER:\n",
      "[1, 2, 3, 4, 5, 6, 7]\n",
      "NEW CENTER:\n",
      "[4320, 4203, 12418, 6420, 9903, 8366, 8197]\n",
      "CURR CENTER:\n",
      "[4320, 4203, 12418, 6420, 9903, 8366, 8197]\n",
      "NEW CENTER:\n",
      "[11722, 9303, 14781, 4833, 9903, 1452, 8631]\n",
      "CURR CENTER:\n",
      "[11722, 9303, 14781, 4833, 9903, 1452, 8631]\n",
      "NEW CENTER:\n",
      "[6611, 2769, 1879, 9903, 13735, 2700, 12281]\n",
      "CURR CENTER:\n",
      "[6611, 2769, 1879, 9903, 13735, 2700, 12281]\n",
      "NEW CENTER:\n",
      "[11881, 2769, 4109, 13735, 2700, 9903, 10695]\n",
      "CURR CENTER:\n",
      "[11881, 2769, 4109, 13735, 2700, 9903, 10695]\n",
      "NEW CENTER:\n",
      "[11881, 993, 12711, 13735, 2700, 5268, 9903]\n",
      "CURR CENTER:\n",
      "[11881, 993, 12711, 13735, 2700, 5268, 9903]\n",
      "NEW CENTER:\n",
      "[11881, 10179, 7152, 9903, 4833, 2700, 1802]\n",
      "CURR CENTER:\n",
      "[11881, 10179, 7152, 9903, 4833, 2700, 1802]\n",
      "NEW CENTER:\n",
      "[11881, 3206, 3975, 4833, 9903, 2700, 12307]\n",
      "CURR CENTER:\n",
      "[11881, 3206, 3975, 4833, 9903, 2700, 12307]\n",
      "NEW CENTER:\n",
      "[11881, 6423, 4422, 4833, 3016, 2700, 1532]\n",
      "CURR CENTER:\n",
      "[11881, 6423, 4422, 4833, 3016, 2700, 1532]\n",
      "NEW CENTER:\n",
      "[11881, 13160, 8210, 4833, 3932, 2700, 1532]\n",
      "CURR CENTER:\n",
      "[11881, 13160, 8210, 4833, 3932, 2700, 1532]\n",
      "NEW CENTER:\n",
      "[11881, 4134, 7527, 4833, 10008, 2700, 1532]\n",
      "CURR CENTER:\n",
      "[11881, 4134, 7527, 4833, 10008, 2700, 1532]\n",
      "NEW CENTER:\n",
      "[11881, 4134, 7527, 4833, 4382, 2700, 309]\n",
      "CURR CENTER:\n",
      "[11881, 4134, 7527, 4833, 4382, 2700, 309]\n",
      "NEW CENTER:\n",
      "[11881, 2520, 7527, 14068, 4382, 2700, 6321]\n",
      "CURR CENTER:\n",
      "[11881, 2520, 7527, 14068, 4382, 2700, 6321]\n",
      "NEW CENTER:\n",
      "[8589, 2520, 5511, 14068, 4382, 2700, 8192]\n",
      "CURR CENTER:\n",
      "[8589, 2520, 5511, 14068, 4382, 2700, 8192]\n",
      "NEW CENTER:\n",
      "[8589, 2520, 5511, 7187, 4382, 11140, 396]\n",
      "CURR CENTER:\n",
      "[8589, 2520, 5511, 7187, 4382, 11140, 396]\n",
      "NEW CENTER:\n",
      "[8589, 2520, 5511, 5556, 4382, 11140, 396]\n",
      "CURR CENTER:\n",
      "[8589, 2520, 5511, 5556, 4382, 11140, 396]\n",
      "NEW CENTER:\n",
      "[8589, 2520, 5511, 5556, 4382, 11140, 396]\n",
      "DONE! FINAL CENTERS:\n",
      "[8589, 2520, 5511, 5556, 4382, 11140, 396]\n"
     ]
    }
   ],
   "source": [
    "#driver code\n",
    "\n",
    "#keepClustering is a boolean that checks if the cluster centers have changed, if not then it stops the loop\n",
    "keepClustering = True\n",
    "while keepClustering:\n",
    "    print(\"CURR CENTER:\")\n",
    "    print(centers)\n",
    "    clusters = {}\n",
    "    #this part goes through and finds which center each point/song is closest to and saves it under clusters\n",
    "    for (index,song) in df.iterrows():\n",
    "        currMin = 100000000\n",
    "        curr = 0\n",
    "        for i in range(len(centers)):\n",
    "            if calcDist(song,df.iloc[centers[i]]) < currMin:\n",
    "                currMin = calcDist(song,df.iloc[centers[i]])\n",
    "                curr = centers[i]\n",
    "        if curr in clusters:\n",
    "            clusters[curr].append(index)\n",
    "        else:\n",
    "            clusters[curr] = [index]\n",
    "\n",
    "    #calculate the new numerical center for each cluster\n",
    "    newPoints = calcNewCenter()\n",
    "    #calculate the actual indices of points that are closest to the numerical center\n",
    "    newCenterPoints = calcNewCenterPoints()\n",
    "    #check if the new centers and the old centers are equal.\n",
    "    # if they are equal then the boolean is false, and clustering is finished\n",
    "    keepClustering = False\n",
    "    for x in range(len(newCenterPoints)):\n",
    "        if newCenterPoints[x] != centers[x]:\n",
    "            keepClustering = True\n",
    "            break\n",
    "    #assigning the centers array the new center point indices\n",
    "    centers = newCenterPoints\n",
    "print(\"DONE! FINAL CENTERS:\")\n",
    "print(centers)"
   ]
  },
  {
   "cell_type": "code",
   "execution_count": 72,
   "id": "c3d27ec4",
   "metadata": {},
   "outputs": [
    {
     "data": {
      "text/plain": [
       "<AxesSubplot:title={'center':'H0'}>"
      ]
     },
     "execution_count": 72,
     "metadata": {},
     "output_type": "execute_result"
    },
    {
     "data": {
      "image/png": "[encoded data removed]",
      "text/plain": [
       "<Figure size 432x288 with 1 Axes>"
      ]
     },
     "metadata": {
      "needs_background": "light"
     },
     "output_type": "display_data"
    }
   ],
   "source": [
    "# For each cluster, create a dataframe of songs in that cluster\n",
    "# then for that dataframe, plot the number of songs under each year\n",
    "df['release_year'] = yearsDF\n",
    "x = []\n",
    "for cluster in clusters:\n",
    "    temp = []\n",
    "    temp.append(df.iloc[cluster])\n",
    "    for songIndex in clusters[cluster]:\n",
    "        temp.append(df.iloc[songIndex])\n",
    "    x.append(pd.DataFrame(temp))\n",
    "\n",
    "x[0]['release_year'].value_counts().plot(kind='bar',title=str(\"H0\"))"
   ]
  },
  {
   "cell_type": "code",
   "execution_count": 73,
   "id": "7eeac70c",
   "metadata": {},
   "outputs": [
    {
     "data": {
      "text/plain": [
       "<AxesSubplot:title={'center':'H1'}>"
      ]
     },
     "execution_count": 73,
     "metadata": {},
     "output_type": "execute_result"
    },
    {
     "data": {
      "image/png": "[encoded data removed]",
      "text/plain": [
       "<Figure size 432x288 with 1 Axes>"
      ]
     },
     "metadata": {
      "needs_background": "light"
     },
     "output_type": "display_data"
    }
   ],
   "source": [
    "x[1]['release_year'].value_counts().plot(kind='bar',title=str(\"H1\"))"
   ]
  },
  {
   "cell_type": "code",
   "execution_count": 74,
   "id": "32a64590",
   "metadata": {},
   "outputs": [
    {
     "data": {
      "text/plain": [
       "<AxesSubplot:title={'center':'H2'}>"
      ]
     },
     "execution_count": 74,
     "metadata": {},
     "output_type": "execute_result"
    },
    {
     "data": {
      "image/png": "[encoded data removed]",
      "text/plain": [
       "<Figure size 432x288 with 1 Axes>"
      ]
     },
     "metadata": {
      "needs_background": "light"
     },
     "output_type": "display_data"
    }
   ],
   "source": [
    "x[2]['release_year'].value_counts().plot(kind='bar',title=str(\"H2\"))"
   ]
  },
  {
   "cell_type": "code",
   "execution_count": 75,
   "id": "160cd966",
   "metadata": {},
   "outputs": [
    {
     "data": {
      "text/plain": [
       "<AxesSubplot:title={'center':'H3'}>"
      ]
     },
     "execution_count": 75,
     "metadata": {},
     "output_type": "execute_result"
    },
    {
     "data": {
      "image/png": "[encoded data removed]",
      "text/plain": [
       "<Figure size 432x288 with 1 Axes>"
      ]
     },
     "metadata": {
      "needs_background": "light"
     },
     "output_type": "display_data"
    }
   ],
   "source": [
    "x[3]['release_year'].value_counts().plot(kind='bar',title=str(\"H3\"))"
   ]
  },
  {
   "cell_type": "code",
   "execution_count": 76,
   "id": "fbb6600a",
   "metadata": {},
   "outputs": [
    {
     "data": {
      "text/plain": [
       "<AxesSubplot:title={'center':'H3'}>"
      ]
     },
     "execution_count": 76,
     "metadata": {},
     "output_type": "execute_result"
    },
    {
     "data": {
      "image/png": "[encoded data removed]",
      "text/plain": [
       "<Figure size 432x288 with 1 Axes>"
      ]
     },
     "metadata": {
      "needs_background": "light"
     },
     "output_type": "display_data"
    }
   ],
   "source": [
    "x[4]['release_year'].value_counts().plot(kind='bar',title=str(\"H3\"))"
   ]
  },
  {
   "cell_type": "code",
   "execution_count": 77,
   "id": "91d543fc",
   "metadata": {},
   "outputs": [
    {
     "data": {
      "text/plain": [
       "<AxesSubplot:title={'center':'H3'}>"
      ]
     },
     "execution_count": 77,
     "metadata": {},
     "output_type": "execute_result"
    },
    {
     "data": {
      "image/png": "[encoded data removed]",
      "text/plain": [
       "<Figure size 432x288 with 1 Axes>"
      ]
     },
     "metadata": {
      "needs_background": "light"
     },
     "output_type": "display_data"
    }
   ],
   "source": [
    "x[5]['release_year'].value_counts().plot(kind='bar',title=str(\"H3\"))"
   ]
  },
  {
   "cell_type": "code",
   "execution_count": 78,
   "id": "4739b26c",
   "metadata": {},
   "outputs": [
    {
     "data": {
      "text/plain": [
       "<AxesSubplot:title={'center':'H3'}>"
      ]
     },
     "execution_count": 78,
     "metadata": {},
     "output_type": "execute_result"
    },
    {
     "data": {
      "image/png": "[encoded data removed]",
      "text/plain": [
       "<Figure size 432x288 with 1 Axes>"
      ]
     },
     "metadata": {
      "needs_background": "light"
     },
     "output_type": "display_data"
    }
   ],
   "source": [
    "x[6]['release_year'].value_counts().plot(kind='bar',title=str(\"H3\"))"
   ]
  },
  {
   "cell_type": "code",
   "execution_count": null,
   "id": "eca5544d",
   "metadata": {},
   "outputs": [],
   "source": []
  }
 ],
 "metadata": {
  "kernelspec": {
   "display_name": "Python 3 (ipykernel)",
   "language": "python",
   "name": "python3"
  },
  "language_info": {
   "codemirror_mode": {
    "name": "ipython",
    "version": 3
   },
   "file_extension": ".py",
   "mimetype": "text/x-python",
   "name": "python",
   "nbconvert_exporter": "python",
   "pygments_lexer": "ipython3",
   "version": "3.8.5"
  }
 },
 "nbformat": 4,
 "nbformat_minor": 5
}
