{
 "cells": [
  {
   "cell_type": "code",
   "execution_count": null,
   "id": "42e23b17",
   "metadata": {},
   "outputs": [],
   "source": [
    "import spotipy\n",
    "import pandas as pd\n",
    "from spotipy.oauth2 import SpotifyClientCredentials\n",
    "spotify = spotipy.Spotify(client_credentials_manager=SpotifyClientCredentials(client_id='10abcd80153e480aa1309b5782db7a0a', client_secret='c6c037c908344f439fe469dcfbfb8918'), requests_timeout=50)\n"
   ]
  },
  {
   "cell_type": "code",
   "execution_count": null,
   "id": "81851da8",
   "metadata": {},
   "outputs": [],
   "source": [
    "# Username and playlist URIs\n",
    "my_username = 'mythreya75'\n",
    "bruh_uri = 'spotify:playlist:5aSx3MwComNfCHqbl5AILS'\n",
    "#dftr_uri = 'spotify:playlist:64qKTfGYPzL8eOqqYrLrSy'\n",
    "edm_uri = 'spotify:playlist:6n1PxIopr5Sz60VBwDGpuq'\n",
    "carl_uri = 'spotify:user:wc167m3f2872orl0152wn1gwg'\n",
    "carlsPlaylistURI = 'spotify:playlist:6Qn4VdrEu9pUrPZBVZTE6C'\n",
    "\n",
    "# List of playlists for getAllTracks to iterate through \n",
    "playlistURI_List = [[carlsPlaylistURI, carl_uri]]\n",
    "#playlistURI_List = [[bruh_uri, my_username]]"
   ]
  },
  {
   "cell_type": "code",
   "execution_count": 188,
   "id": "0a519ee7",
   "metadata": {},
   "outputs": [
    {
     "data": {
      "text/plain": [
       "\"\\ndef get_playlist_tracks(username,playlist_id):\\n    results = spotify.user_playlist_tracks(username,playlist_id)\\n    tracks = results['items']\\n    while results['next']:\\n        results = spotify.next(results)\\n        tracks.extend(results['items'])\\n    return tracks\\n\\ndef findTrackFeatures(username, playlistURI):\\n    playlistDict = get_playlist_tracks(username, playlistURI)\\n    track_features = {}\\n    for track in playlistDict:\\n        try:\\n            trackID = track['track']['id']\\n            feature_data = list(spotify.audio_features(trackID)[0].values())\\n            # print(spotify.audio_features(ids)[0])\\n            track_features[track['track']['name']] = feature_data\\n        except: pass\\n    \\n    return track_features\\n\\nfindTrackFeatures(carl_uri,carlsPlaylistURI)\\n\""
      ]
     },
     "execution_count": 188,
     "metadata": {},
     "output_type": "execute_result"
    }
   ],
   "source": [
    "# TESTING\n",
    "'''\n",
    "def get_playlist_tracks(username,playlist_id):\n",
    "    results = spotify.user_playlist_tracks(username,playlist_id)\n",
    "    tracks = results['items']\n",
    "    while results['next']:\n",
    "        results = spotify.next(results)\n",
    "        tracks.extend(results['items'])\n",
    "    return tracks\n",
    "\n",
    "def findTrackFeatures(username, playlistURI):\n",
    "    playlistDict = get_playlist_tracks(username, playlistURI)\n",
    "    track_features = {}\n",
    "    for track in playlistDict:\n",
    "        try:\n",
    "            trackID = track['track']['id']\n",
    "            feature_data = list(spotify.audio_features(trackID)[0].values())\n",
    "            # print(spotify.audio_features(ids)[0])\n",
    "            track_features[track['track']['name']] = feature_data\n",
    "        except: pass\n",
    "    \n",
    "    return track_features\n",
    "\n",
    "findTrackFeatures(carl_uri,carlsPlaylistURI)\n",
    "'''"
   ]
  },
  {
   "cell_type": "code",
   "execution_count": null,
   "id": "69fdb14f",
   "metadata": {},
   "outputs": [],
   "source": [
    "def get_playlist_tracks(username,playlist_id):\n",
    "    results = spotify.user_playlist_tracks(username,playlist_id)\n",
    "    tracks = results['items']\n",
    "    while results['next']:\n",
    "        results = spotify.next(results)\n",
    "        tracks.extend(results['items'])\n",
    "    return tracks\n",
    "\n",
    "# Finds track features for a every song in a playlist\n",
    "# Parameters => username, playlistURI\n",
    "# Returns => dictionary of tracks and features \n",
    "# (track_features[track_name] = feature_data)\n",
    "def findTrackFeatures(username, playlistURI):\n",
    "    playlistDict = get_playlist_tracks(username, playlistURI)\n",
    "    track_features = {}\n",
    "    for track in playlistDict:\n",
    "        try:\n",
    "            trackID = track['track']['id']\n",
    "            feature_data = list(spotify.audio_features(trackID)[0].values())\n",
    "            # print(spotify.audio_features(ids)[0])\n",
    "            track_features[track['track']['name']] = feature_data\n",
    "        except: pass\n",
    "    \n",
    "    return track_features\n",
    "\n",
    "\n",
    "\n",
    "# Combines track_features dictionaries for every playlist in playlistURI_list\n",
    "# Parameters => playlists (list of playlists)\n",
    "# Returns => every tracksAndFeatures in every playlist from input\n",
    "def getAllTracks(playlists):\n",
    "    all_tracks = {}\n",
    "    for playlist in playlists:\n",
    "        playlistURI = playlist[0]\n",
    "        user = playlist[1]\n",
    "        \n",
    "        newPlaylistTrackFeatures = findTrackFeatures(user, playlistURI)\n",
    "        \n",
    "        all_tracks = all_tracks | newPlaylistTrackFeatures\n",
    "        \n",
    "    return all_tracks\n",
    "\n",
    "tracksAndFeatures = getAllTracks(playlistURI_List)"
   ]
  },
  {
   "cell_type": "code",
   "execution_count": null,
   "id": "c46de1bb",
   "metadata": {},
   "outputs": [],
   "source": [
    "tracksAndFeatures"
   ]
  },
  {
   "cell_type": "code",
   "execution_count": null,
   "id": "8206531e",
   "metadata": {},
   "outputs": [],
   "source": [
    "# Creating dataframe\n",
    "pd.set_option('display.max_rows', 500)\n",
    "df = pd.DataFrame.from_dict(tracksAndFeatures, orient=\"index\", columns=['danceability', 'energy','key', 'loudness', 'mode', 'speechiness','acousticness', 'instrumentalness', 'liveness', 'valence', 'tempo', 'type', 'id', 'uri', 'track_href', 'analysis_url', 'duration_ms', 'time_signature'])\n",
    "df"
   ]
  },
  {
   "cell_type": "code",
   "execution_count": null,
   "id": "6c8a04bd",
   "metadata": {},
   "outputs": [],
   "source": []
  }
 ],
 "metadata": {
  "kernelspec": {
   "display_name": "Python 3 (ipykernel)",
   "language": "python",
   "name": "python3"
  },
  "language_info": {
   "codemirror_mode": {
    "name": "ipython",
    "version": 3
   },
   "file_extension": ".py",
   "mimetype": "text/x-python",
   "name": "python",
   "nbconvert_exporter": "python",
   "pygments_lexer": "ipython3",
   "version": "3.9.7"
  }
 },
 "nbformat": 4,
 "nbformat_minor": 5
}
