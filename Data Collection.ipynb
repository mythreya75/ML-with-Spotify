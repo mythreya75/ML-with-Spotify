{
 "cells": [
  {
   "cell_type": "markdown",
   "id": "fdd4ab1c",
   "metadata": {},
   "source": [
    "# Collecting data from the Spotify API\n",
    "## Imports\n",
    "\n",
    "##### We will need the following packages:\n",
    "* Spotipy\n",
    "    * Access to Spotify API with Python\n",
    "    * Spotipy oauth for authorization\n",
    "* pandas\n",
    "    * Dataframes and data visualization"
   ]
  },
  {
   "cell_type": "code",
   "execution_count": 1,
   "id": "0b2415c5",
   "metadata": {},
   "outputs": [],
   "source": [
    "import spotipy\n",
    "import pandas as pd\n",
    "from spotipy.oauth2 import SpotifyClientCredentials\n",
    "spotify = spotipy.Spotify(client_credentials_manager=\\\n",
    "                          SpotifyClientCredentials(client_id='10abcd80153e480aa1309b5782db7a0a',\\\n",
    "                                                   client_secret='c6c037c908344f439fe469dcfbfb8918'),\\\n",
    "                                                      requests_timeout=50)"
   ]
  },
  {
   "cell_type": "markdown",
   "id": "e255f346",
   "metadata": {},
   "source": [
    "## Defining playlist constants\n",
    "We can use the URI data of each Spotify user and playlist to retrieve them later. We'll save this information in a 2 dimensional array called **playlistURI_List**"
   ]
  },
  {
   "cell_type": "code",
   "execution_count": 2,
   "id": "6f4f2f70",
   "metadata": {},
   "outputs": [],
   "source": [
    "# Username and playlist URIs\n",
    "my_uri = 'spotify:user:mythreya75'\n",
    "bruh_uri = 'spotify:playlist:5aSx3MwComNfCHqbl5AILS'\n",
    "#dftr_uri = 'spotify:playlist:64qKTfGYPzL8eOqqYrLrSy'\n",
    "edm_uri = 'spotify:playlist:6n1PxIopr5Sz60VBwDGpuq'\n",
    "\n",
    "# The longest rap playlist(415H)\n",
    "carl_uri = 'spotify:user:wc167m3f2872orl0152wn1gwg'\n",
    "carlsPlaylistURI = 'spotify:playlist:6Qn4VdrEu9pUrPZBVZTE6C'\n",
    "\n",
    "# Bumps 2.0 (my playlist)\n",
    "bumps = 'spotify:playlist:1iVtAjR9ZFFkTcAoOlDqpf'\n",
    "\n",
    "# The Rap Guru playlist by J. Bond\n",
    "rapGuru = 'spotify:playlist:2528sgfq9xcGXl5t3u0uxl'\n",
    "jBond = 'spotify:user:1252421638'\n",
    "\n",
    "# Adding Evolution of Rap by chrisdaniels503\n",
    "evolRap = 'spotify:playlist:4OfrDE8E2uDG4LvZrVulp9'\n",
    "chrisd = 'spotify:user:chrisdaniels503'\n",
    "\n",
    "# The Longest Rap Mix by Shay Kyser\n",
    "shay = 'spotify:user:22nd4b3lwdmz2ofxgrgsdwiiq'\n",
    "rapMix = 'spotify:playlist:17jpHzURZPYRY91mMsNWX4'\n",
    "\n",
    "# Every tupac song by Sion\n",
    "sion_uri = 'spotify:user:kz0syi26552pjbac0m4e9t2ct'\n",
    "everyTupac = 'spotify:playlist:2BMe9e8C05vTFJ8cso5cwd'\n",
    "\n",
    "# (Almost) Every 50 Cent song by TJ\n",
    "tj_uri = 'spotify:user:r2ggj4my8d3claivbm5ecrwa6'\n",
    "fifty = 'spotify:playlist:0yqWCwcqLzEYxN9GfiBw0T'\n",
    "\n",
    "# Every Eminem song by Braxton Powers\n",
    "braxton = 'spotify:user:go9q1qbwz4r0lr17i6sgwoz27'\n",
    "em = 'spotify:playlist:6RM9tl0lQFv5QwyqL8SI3D'\n",
    "\n",
    "# All Drake Songs On Spotify\n",
    "bandicoot = 'spotify:user:benbellenger'\n",
    "drakeSongs = 'spotify:playlist:7b46c5syjtG86a77R7SnMs'\n",
    "\n",
    "# Htirbd by Kev\n",
    "saintkev = 'spotify:user:ksamraj15'\n",
    "htirbd = 'spotify:playlist:2vT3Hk2DmjUmjpf8tqExu5'\n",
    "\n",
    "# The longest, Best Rap Playlist of All Time by Andy Arson Newton\n",
    "andy = 'spotify:user:1236304360'\n",
    "bestRap = 'spotify:playlist:1jbE9QFLknBMs1CJaAhLCC'\n",
    "\n",
    "# List of playlists for getAllTracks to iterate through \n",
    "#playlistURI_List = [[bruh_uri, my_uri],[edm_uri, my_uri]]\n",
    "\n",
    "playlistURI_List = [[carlsPlaylistURI, carl_uri],[bumps, my_uri],\\\n",
    "                    [rapGuru, jBond], [evolRap, chrisd], [rapMix, shay],\\\n",
    "                    [everyTupac, sion_uri], [fifty, tj_uri], [em, braxton], \\\n",
    "                    [drakeSongs, bandicoot], [htirbd, saintkev], [bestRap, andy]]"
   ]
  },
  {
   "cell_type": "markdown",
   "id": "61597931",
   "metadata": {},
   "source": [
    "## Retrieving playlist data\n",
    "We can create three functions to actually retrieve the feature data of all the tracks in all the playlists of playlistURI_List:\n",
    "* **getAllTracks**\n",
    "    * Iterates through playlistURI_List and calls findTrackFeatures on each playlist\n",
    "* **findTrackFeatures**\n",
    "    * Finds the individual features for each song in a given playlist by calling findTrackFeatures\n",
    "* **get_playlist_tracks**\n",
    "    * Helper to findTrackFeatures to find the individual features for each song"
   ]
  },
  {
   "cell_type": "code",
   "execution_count": null,
   "id": "69fdb14f",
   "metadata": {},
   "outputs": [],
   "source": [
    "def get_playlist_tracks(username,playlist_id):\n",
    "    results = spotify.user_playlist_tracks(username,playlist_id)\n",
    "    tracks = results['items']\n",
    "    while results['next']:\n",
    "        results = spotify.next(results)\n",
    "        tracks.extend(results['items'])\n",
    "    return tracks\n",
    "\n",
    "# Finds track features for a every song in a playlist\n",
    "# Parameters => username, playlistURI\n",
    "# Returns => dictionary of tracks and features \n",
    "# (track_features[track_name] = feature_data)\n",
    "def findTrackFeatures(username, playlistURI):\n",
    "    count = 1\n",
    "    offset = 100\n",
    "    playlistDict = get_playlist_tracks(username, playlistURI)\n",
    "    track_features = {}\n",
    "    for track in playlistDict:\n",
    "        if count % offset == 0 or count == 1:\n",
    "            print(f\"Fetched {count}/{len(playlistDict)} songs\")\n",
    "        elif count == len(playlistDict):\n",
    "            print(f\"Fetched all songs!\")\n",
    "        try:  \n",
    "            trackID = track['track']['id']\n",
    "            track_year = track['track']['album']['release_date'][:4]\n",
    "            feature_data = list(spotify.audio_features(trackID)[0].values())\n",
    "            feature_data.append(track_year)\n",
    "            # print(spotify.audio_features(ids)[0])\n",
    "            track_features[track['track']['name']] = feature_data\n",
    "            count += 1\n",
    "        except: pass\n",
    "    \n",
    "    return track_features\n",
    "\n",
    "# Combines track_features dictionaries for every playlist in playlistURI_list\n",
    "# Parameters => playlists (list of playlists)\n",
    "# Returns => every tracksAndFeatures in every playlist from input\n",
    "def getAllTracks(playlists):\n",
    "    all_tracks = {}\n",
    "    for playlist in playlists:\n",
    "        playlistURI = playlist[0]\n",
    "        # Display playlist label\n",
    "        print(spotify.playlist(playlist_id=playlistURI,fields=\"name\")['name'], end=\":\\n\")\n",
    "        \n",
    "        user = playlist[1]\n",
    "        \n",
    "        newPlaylistTrackFeatures = findTrackFeatures(user, playlistURI)\n",
    "        # This syntax lets you effectively concatenate a dictionary\n",
    "        # all_tracks[track name] = feature_data\n",
    "        all_tracks = all_tracks | newPlaylistTrackFeatures\n",
    "        print(\"\\n\")\n",
    "        \n",
    "    return all_tracks\n",
    "\n",
    "tracksAndFeatures = getAllTracks(playlistURI_List)"
   ]
  },
  {
   "cell_type": "markdown",
   "id": "f6a90856",
   "metadata": {},
   "source": [
    "### addPlaylist\n",
    "Extra function for adding a playlist to the existing library"
   ]
  },
  {
   "cell_type": "code",
   "execution_count": null,
   "id": "1b61149d",
   "metadata": {},
   "outputs": [],
   "source": [
    "# Add a playlist's songs to the current library\n",
    "\n",
    "def addPlaylist(username, playlistURI, tracksWithFeatures):\n",
    "    tracksWithFeatures = tracksWithFeatures | getAllTracks([[playlistURI, username]])\n",
    "    return tracksWithFeatures"
   ]
  },
  {
   "cell_type": "markdown",
   "id": "afd73201",
   "metadata": {},
   "source": [
    "### Checking library size"
   ]
  },
  {
   "cell_type": "code",
   "execution_count": 4,
   "id": "439dc928",
   "metadata": {},
   "outputs": [
    {
     "data": {
      "text/plain": [
       "14855"
      ]
     },
     "execution_count": 4,
     "metadata": {},
     "output_type": "execute_result"
    }
   ],
   "source": [
    "len(tracksAndFeatures)"
   ]
  },
  {
   "cell_type": "markdown",
   "id": "778bc883",
   "metadata": {},
   "source": [
    "## Creating dataframe\n",
    "Now we'll insert the song data into a pandas dataframe with a bunch of column labels for the different features"
   ]
  },
  {
   "cell_type": "code",
   "execution_count": 11,
   "id": "a4c428be",
   "metadata": {},
   "outputs": [],
   "source": [
    "# Creating dataframe\n",
    "pd.set_option('display.max_rows', None)\n",
    "raw_df = pd.DataFrame.from_dict(tracksAndFeatures, orient=\"index\", columns=['danceability', 'energy','key', \\\n",
    "                                                                        'loudness', 'mode', 'speechiness',\\\n",
    "                                                                        'acousticness', 'instrumentalness', \\\n",
    "                                                                        'liveness', 'valence', 'tempo', 'type',\\\n",
    "                                                                        'id', 'uri', 'track_href', 'analysis_url',\\\n",
    "                                                                        'duration_ms', 'time_signature',\\\n",
    "                                                                        'release_year'])"
   ]
  },
  {
   "cell_type": "markdown",
   "id": "40b19659",
   "metadata": {},
   "source": [
    "### Narrowing down dataframe\n",
    "Now we can find the data points that are specifically relevant to the music itself\n"
   ]
  },
  {
   "cell_type": "code",
   "execution_count": 16,
   "id": "6c8a04bd",
   "metadata": {},
   "outputs": [],
   "source": [
    "spotifyFeatures = raw_df[['danceability','energy','key',\\\n",
    "                      'loudness','mode','speechiness',\\\n",
    "                      'acousticness','instrumentalness', 'liveness',\\\n",
    "                      'valence','tempo', 'duration_ms', 'release_year']]\n",
    "#spotifyFeatures"
   ]
  },
  {
   "cell_type": "markdown",
   "id": "ba64e367",
   "metadata": {},
   "source": [
    "### Year distribution of tracks"
   ]
  },
  {
   "cell_type": "code",
   "execution_count": 17,
   "id": "e4734268",
   "metadata": {},
   "outputs": [
    {
     "data": {
      "image/png": "[encoded data removed]",
      "text/plain": [
       "<Figure size 432x288 with 1 Axes>"
      ]
     },
     "metadata": {
      "needs_background": "light"
     },
     "output_type": "display_data"
    }
   ],
   "source": [
    "# Plot year distribution\n",
    "yearCount = spotifyFeatures['release_year'].value_counts().plot(kind='bar', sort_columns=True)"
   ]
  },
  {
   "cell_type": "markdown",
   "id": "a0f492b9",
   "metadata": {},
   "source": [
    "### Exporting data to an external csv file"
   ]
  },
  {
   "cell_type": "code",
   "execution_count": 19,
   "id": "8908fb48",
   "metadata": {},
   "outputs": [],
   "source": [
    "spotifyFeatures.to_csv('out.csv')"
   ]
  },
  {
   "cell_type": "code",
   "execution_count": 23,
   "id": "f99932c7",
   "metadata": {},
   "outputs": [
    {
     "data": {
      "text/html": [
       "<div>\n",
       "<style scoped>\n",
       "    .dataframe tbody tr th:only-of-type {\n",
       "        vertical-align: middle;\n",
       "    }\n",
       "\n",
       "    .dataframe tbody tr th {\n",
       "        vertical-align: top;\n",
       "    }\n",
       "\n",
       "    .dataframe thead th {\n",
       "        text-align: right;\n",
       "    }\n",
       "</style>\n",
       "<table border=\"1\" class=\"dataframe\">\n",
       "  <thead>\n",
       "    <tr style=\"text-align: right;\">\n",
       "      <th></th>\n",
       "      <th>danceability</th>\n",
       "      <th>energy</th>\n",
       "      <th>key</th>\n",
       "      <th>loudness</th>\n",
       "      <th>mode</th>\n",
       "      <th>speechiness</th>\n",
       "      <th>acousticness</th>\n",
       "      <th>instrumentalness</th>\n",
       "      <th>liveness</th>\n",
       "      <th>valence</th>\n",
       "      <th>tempo</th>\n",
       "      <th>duration_ms</th>\n",
       "      <th>release_year</th>\n",
       "    </tr>\n",
       "  </thead>\n",
       "  <tbody>\n",
       "    <tr>\n",
       "      <th>Swang</th>\n",
       "      <td>0.681</td>\n",
       "      <td>0.314</td>\n",
       "      <td>8</td>\n",
       "      <td>-9.319</td>\n",
       "      <td>1</td>\n",
       "      <td>0.0581</td>\n",
       "      <td>0.2000</td>\n",
       "      <td>0.000010</td>\n",
       "      <td>0.1000</td>\n",
       "      <td>0.166</td>\n",
       "      <td>139.992</td>\n",
       "      <td>208120</td>\n",
       "      <td>2016</td>\n",
       "    </tr>\n",
       "    <tr>\n",
       "      <th>223's (feat. 9lokknine)</th>\n",
       "      <td>0.932</td>\n",
       "      <td>0.547</td>\n",
       "      <td>0</td>\n",
       "      <td>-7.787</td>\n",
       "      <td>0</td>\n",
       "      <td>0.3330</td>\n",
       "      <td>0.0388</td>\n",
       "      <td>0.000000</td>\n",
       "      <td>0.0924</td>\n",
       "      <td>0.695</td>\n",
       "      <td>94.998</td>\n",
       "      <td>176640</td>\n",
       "      <td>2019</td>\n",
       "    </tr>\n",
       "    <tr>\n",
       "      <th>EARFQUAKE</th>\n",
       "      <td>0.554</td>\n",
       "      <td>0.498</td>\n",
       "      <td>9</td>\n",
       "      <td>-8.866</td>\n",
       "      <td>1</td>\n",
       "      <td>0.0685</td>\n",
       "      <td>0.2300</td>\n",
       "      <td>0.000006</td>\n",
       "      <td>0.7950</td>\n",
       "      <td>0.413</td>\n",
       "      <td>79.635</td>\n",
       "      <td>190067</td>\n",
       "      <td>2019</td>\n",
       "    </tr>\n",
       "    <tr>\n",
       "      <th>Sanguine Paradise</th>\n",
       "      <td>0.729</td>\n",
       "      <td>0.603</td>\n",
       "      <td>6</td>\n",
       "      <td>-6.736</td>\n",
       "      <td>0</td>\n",
       "      <td>0.0666</td>\n",
       "      <td>0.0948</td>\n",
       "      <td>0.000000</td>\n",
       "      <td>0.1130</td>\n",
       "      <td>0.207</td>\n",
       "      <td>134.972</td>\n",
       "      <td>243976</td>\n",
       "      <td>2019</td>\n",
       "    </tr>\n",
       "    <tr>\n",
       "      <th>Chucky Cheese</th>\n",
       "      <td>0.890</td>\n",
       "      <td>0.542</td>\n",
       "      <td>10</td>\n",
       "      <td>-4.826</td>\n",
       "      <td>0</td>\n",
       "      <td>0.3140</td>\n",
       "      <td>0.5230</td>\n",
       "      <td>0.000000</td>\n",
       "      <td>0.1230</td>\n",
       "      <td>0.565</td>\n",
       "      <td>78.458</td>\n",
       "      <td>165293</td>\n",
       "      <td>2018</td>\n",
       "    </tr>\n",
       "  </tbody>\n",
       "</table>\n",
       "</div>"
      ],
      "text/plain": [
       "                         danceability  energy  key  loudness  mode  \\\n",
       "Swang                           0.681   0.314    8    -9.319     1   \n",
       "223's (feat. 9lokknine)         0.932   0.547    0    -7.787     0   \n",
       "EARFQUAKE                       0.554   0.498    9    -8.866     1   \n",
       "Sanguine Paradise               0.729   0.603    6    -6.736     0   \n",
       "Chucky Cheese                   0.890   0.542   10    -4.826     0   \n",
       "\n",
       "                         speechiness  acousticness  instrumentalness  \\\n",
       "Swang                         0.0581        0.2000          0.000010   \n",
       "223's (feat. 9lokknine)       0.3330        0.0388          0.000000   \n",
       "EARFQUAKE                     0.0685        0.2300          0.000006   \n",
       "Sanguine Paradise             0.0666        0.0948          0.000000   \n",
       "Chucky Cheese                 0.3140        0.5230          0.000000   \n",
       "\n",
       "                         liveness  valence    tempo  duration_ms release_year  \n",
       "Swang                      0.1000    0.166  139.992       208120         2016  \n",
       "223's (feat. 9lokknine)    0.0924    0.695   94.998       176640         2019  \n",
       "EARFQUAKE                  0.7950    0.413   79.635       190067         2019  \n",
       "Sanguine Paradise          0.1130    0.207  134.972       243976         2019  \n",
       "Chucky Cheese              0.1230    0.565   78.458       165293         2018  "
      ]
     },
     "execution_count": 23,
     "metadata": {},
     "output_type": "execute_result"
    }
   ],
   "source": [
    "spotifyFeatures.head()"
   ]
  },
  {
   "cell_type": "code",
   "execution_count": 3,
   "id": "f3f5d401",
   "metadata": {},
   "outputs": [],
   "source": [
    "# Ooga booga"
   ]
  }
 ],
 "metadata": {
  "kernelspec": {
   "display_name": "Python 3 (ipykernel)",
   "language": "python",
   "name": "python3"
  },
  "language_info": {
   "codemirror_mode": {
    "name": "ipython",
    "version": 3
   },
   "file_extension": ".py",
   "mimetype": "text/x-python",
   "name": "python",
   "nbconvert_exporter": "python",
   "pygments_lexer": "ipython3",
   "version": "3.9.7"
  }
 },
 "nbformat": 4,
 "nbformat_minor": 5
}
