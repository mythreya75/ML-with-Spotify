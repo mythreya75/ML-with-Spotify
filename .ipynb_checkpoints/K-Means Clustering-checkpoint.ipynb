{
 "cells": [
  {
   "cell_type": "code",
   "execution_count": 50,
   "id": "10517184",
   "metadata": {
    "scrolled": true
   },
   "outputs": [],
   "source": [
    "import pandas as pd\n",
    "import numpy as np\n",
    "\n",
    "df = pd.read_csv('out.csv')\n",
    "songsDF = df.pop('song')\n",
    "yearsDF = df.pop('release_year')\n",
    "durationDF = df.pop('duration_ms')\n"
   ]
  },
  {
   "cell_type": "code",
   "execution_count": 51,
   "id": "c2fa989f",
   "metadata": {},
   "outputs": [],
   "source": [
    "#this calculates the distance between two n-dimensional points\n",
    "# a song in this case is a 13 dimensional point (13 attributes)\n",
    "def calcDist(p1,p2):\n",
    "    dist = 0\n",
    "    for i in range(p1.size):\n",
    "        dist += (p1[i]-p2[i])**2\n",
    "    return dist**0.5"
   ]
  },
  {
   "cell_type": "code",
   "execution_count": 52,
   "id": "1dfcbf5a",
   "metadata": {},
   "outputs": [],
   "source": [
    "#this calculates the numerical center of all the points in a cluster\n",
    "# the center calculated here is not a point, but a number\n",
    "def calcNewCenter():\n",
    "    newCenters = [0]*len(clusters.keys())  \n",
    "    c = 0\n",
    "    for cluster in clusters:\n",
    "        #print(c)\n",
    "        newCenters[c] = [0]*len(df.iloc[0])\n",
    "        for x in range(len(newCenters[c])):\n",
    "            newCenters[c][x] += df.iloc[cluster][x]/len(clusters[cluster])\n",
    "        for song in clusters[cluster]:\n",
    "            for x in range(len(newCenters[c])):\n",
    "                newCenters[c][x] += df.iloc[song][x]/len(clusters[cluster])\n",
    "                #print(index)\n",
    "        c+=1\n",
    "    return newCenters"
   ]
  },
  {
   "cell_type": "code",
   "execution_count": 53,
   "id": "afb039bc",
   "metadata": {},
   "outputs": [],
   "source": [
    "# this calculates the point closest to the newly calculated numerical centers and returns the new center points\n",
    "def calcNewCenterPoints():\n",
    "    newCenterPoints = [0]*len(clusters.keys())\n",
    "    c = 0\n",
    "    for cluster in clusters:\n",
    "        currMin = calcDist(df.iloc[cluster],newPoints[c])\n",
    "        curr = cluster\n",
    "        for song in clusters[cluster]:\n",
    "            if calcDist(df.iloc[song],newPoints[c]) < currMin:\n",
    "                currMin = calcDist(df.iloc[song],newPoints[c])\n",
    "                curr = song\n",
    "        newCenterPoints[c] = curr\n",
    "        c+=1\n",
    "    print(\"NEW CENTER:\")\n",
    "    print(newCenterPoints)\n",
    "    return newCenterPoints"
   ]
  },
  {
   "cell_type": "code",
   "execution_count": 54,
   "id": "df217b2b",
   "metadata": {},
   "outputs": [],
   "source": [
    "#initially choose random centers\n",
    "# choose as many centers as you want clusters\n",
    "\n",
    "#centers = [9952, 2769, 2890, 2648] \n",
    "centers = [1,2,3]\n",
    "\n",
    "#key: cluster center index\n",
    "# value: array of all indexes that are in this cluster\n",
    "clusters = {}"
   ]
  },
  {
   "cell_type": "code",
   "execution_count": 55,
   "id": "24eb4dbd",
   "metadata": {
    "scrolled": true
   },
   "outputs": [
    {
     "name": "stdout",
     "output_type": "stream",
     "text": [
      "CURR CENTER:\n",
      "[1, 2, 3]\n",
      "NEW CENTER:3\n",
      "NEW CENTER:1\n",
      "NEW CENTER:2\n"
     ]
    },
    {
     "ename": "KeyboardInterrupt",
     "evalue": "",
     "output_type": "error",
     "traceback": [
      "\u001b[0;31m---------------------------------------------------------------------------\u001b[0m",
      "\u001b[0;31mKeyboardInterrupt\u001b[0m                         Traceback (most recent call last)",
      "Input \u001b[0;32mIn [55]\u001b[0m, in \u001b[0;36m<cell line: 5>\u001b[0;34m()\u001b[0m\n\u001b[1;32m     13\u001b[0m \u001b[38;5;28;01mfor\u001b[39;00m i \u001b[38;5;129;01min\u001b[39;00m \u001b[38;5;28mrange\u001b[39m(\u001b[38;5;28mlen\u001b[39m(centers)):\n\u001b[1;32m     14\u001b[0m     \u001b[38;5;28;01mif\u001b[39;00m calcDist(song,df\u001b[38;5;241m.\u001b[39miloc[centers[i]]) \u001b[38;5;241m<\u001b[39m currMin:\n\u001b[0;32m---> 15\u001b[0m         currMin \u001b[38;5;241m=\u001b[39m calcDist(song,\u001b[43mdf\u001b[49m\u001b[38;5;241;43m.\u001b[39;49m\u001b[43miloc\u001b[49m\u001b[43m[\u001b[49m\u001b[43mcenters\u001b[49m\u001b[43m[\u001b[49m\u001b[43mi\u001b[49m\u001b[43m]\u001b[49m\u001b[43m]\u001b[49m)\n\u001b[1;32m     16\u001b[0m         curr \u001b[38;5;241m=\u001b[39m centers[i]\n\u001b[1;32m     17\u001b[0m \u001b[38;5;28;01mif\u001b[39;00m curr \u001b[38;5;129;01min\u001b[39;00m clusters:\n",
      "File \u001b[0;32m/Library/Frameworks/Python.framework/Versions/3.8/lib/python3.8/site-packages/pandas/core/indexing.py:895\u001b[0m, in \u001b[0;36m_LocationIndexer.__getitem__\u001b[0;34m(self, key)\u001b[0m\n\u001b[1;32m    892\u001b[0m axis \u001b[38;5;241m=\u001b[39m \u001b[38;5;28mself\u001b[39m\u001b[38;5;241m.\u001b[39maxis \u001b[38;5;129;01mor\u001b[39;00m \u001b[38;5;241m0\u001b[39m\n\u001b[1;32m    894\u001b[0m maybe_callable \u001b[38;5;241m=\u001b[39m com\u001b[38;5;241m.\u001b[39mapply_if_callable(key, \u001b[38;5;28mself\u001b[39m\u001b[38;5;241m.\u001b[39mobj)\n\u001b[0;32m--> 895\u001b[0m \u001b[38;5;28;01mreturn\u001b[39;00m \u001b[38;5;28;43mself\u001b[39;49m\u001b[38;5;241;43m.\u001b[39;49m\u001b[43m_getitem_axis\u001b[49m\u001b[43m(\u001b[49m\u001b[43mmaybe_callable\u001b[49m\u001b[43m,\u001b[49m\u001b[43m \u001b[49m\u001b[43maxis\u001b[49m\u001b[38;5;241;43m=\u001b[39;49m\u001b[43maxis\u001b[49m\u001b[43m)\u001b[49m\n",
      "File \u001b[0;32m/Library/Frameworks/Python.framework/Versions/3.8/lib/python3.8/site-packages/pandas/core/indexing.py:1503\u001b[0m, in \u001b[0;36m_iLocIndexer._getitem_axis\u001b[0;34m(self, key, axis)\u001b[0m\n\u001b[1;32m   1500\u001b[0m \u001b[38;5;66;03m# validate the location\u001b[39;00m\n\u001b[1;32m   1501\u001b[0m \u001b[38;5;28mself\u001b[39m\u001b[38;5;241m.\u001b[39m_validate_integer(key, axis)\n\u001b[0;32m-> 1503\u001b[0m \u001b[38;5;28;01mreturn\u001b[39;00m \u001b[38;5;28;43mself\u001b[39;49m\u001b[38;5;241;43m.\u001b[39;49m\u001b[43mobj\u001b[49m\u001b[38;5;241;43m.\u001b[39;49m\u001b[43m_ixs\u001b[49m\u001b[43m(\u001b[49m\u001b[43mkey\u001b[49m\u001b[43m,\u001b[49m\u001b[43m \u001b[49m\u001b[43maxis\u001b[49m\u001b[38;5;241;43m=\u001b[39;49m\u001b[43maxis\u001b[49m\u001b[43m)\u001b[49m\n",
      "File \u001b[0;32m/Library/Frameworks/Python.framework/Versions/3.8/lib/python3.8/site-packages/pandas/core/frame.py:2951\u001b[0m, in \u001b[0;36mDataFrame._ixs\u001b[0;34m(self, i, axis)\u001b[0m\n\u001b[1;32m   2949\u001b[0m \u001b[38;5;66;03m# if we are a copy, mark as such\u001b[39;00m\n\u001b[1;32m   2950\u001b[0m copy \u001b[38;5;241m=\u001b[39m \u001b[38;5;28misinstance\u001b[39m(new_values, np\u001b[38;5;241m.\u001b[39mndarray) \u001b[38;5;129;01mand\u001b[39;00m new_values\u001b[38;5;241m.\u001b[39mbase \u001b[38;5;129;01mis\u001b[39;00m \u001b[38;5;28;01mNone\u001b[39;00m\n\u001b[0;32m-> 2951\u001b[0m result \u001b[38;5;241m=\u001b[39m \u001b[38;5;28;43mself\u001b[39;49m\u001b[38;5;241;43m.\u001b[39;49m\u001b[43m_constructor_sliced\u001b[49m\u001b[43m(\u001b[49m\n\u001b[1;32m   2952\u001b[0m \u001b[43m    \u001b[49m\u001b[43mnew_values\u001b[49m\u001b[43m,\u001b[49m\n\u001b[1;32m   2953\u001b[0m \u001b[43m    \u001b[49m\u001b[43mindex\u001b[49m\u001b[38;5;241;43m=\u001b[39;49m\u001b[38;5;28;43mself\u001b[39;49m\u001b[38;5;241;43m.\u001b[39;49m\u001b[43mcolumns\u001b[49m\u001b[43m,\u001b[49m\n\u001b[1;32m   2954\u001b[0m \u001b[43m    \u001b[49m\u001b[43mname\u001b[49m\u001b[38;5;241;43m=\u001b[39;49m\u001b[38;5;28;43mself\u001b[39;49m\u001b[38;5;241;43m.\u001b[39;49m\u001b[43mindex\u001b[49m\u001b[43m[\u001b[49m\u001b[43mi\u001b[49m\u001b[43m]\u001b[49m\u001b[43m,\u001b[49m\n\u001b[1;32m   2955\u001b[0m \u001b[43m    \u001b[49m\u001b[43mdtype\u001b[49m\u001b[38;5;241;43m=\u001b[39;49m\u001b[43mnew_values\u001b[49m\u001b[38;5;241;43m.\u001b[39;49m\u001b[43mdtype\u001b[49m\u001b[43m,\u001b[49m\n\u001b[1;32m   2956\u001b[0m \u001b[43m\u001b[49m\u001b[43m)\u001b[49m\n\u001b[1;32m   2957\u001b[0m result\u001b[38;5;241m.\u001b[39m_set_is_copy(\u001b[38;5;28mself\u001b[39m, copy\u001b[38;5;241m=\u001b[39mcopy)\n\u001b[1;32m   2958\u001b[0m \u001b[38;5;28;01mreturn\u001b[39;00m result\n",
      "File \u001b[0;32m/Library/Frameworks/Python.framework/Versions/3.8/lib/python3.8/site-packages/pandas/core/series.py:368\u001b[0m, in \u001b[0;36mSeries.__init__\u001b[0;34m(self, data, index, dtype, name, copy, fastpath)\u001b[0m\n\u001b[1;32m    364\u001b[0m         data \u001b[38;5;241m=\u001b[39m sanitize_array(data, index, dtype, copy, raise_cast_failure\u001b[38;5;241m=\u001b[39m\u001b[38;5;28;01mTrue\u001b[39;00m)\n\u001b[1;32m    366\u001b[0m         data \u001b[38;5;241m=\u001b[39m SingleBlockManager\u001b[38;5;241m.\u001b[39mfrom_array(data, index)\n\u001b[0;32m--> 368\u001b[0m \u001b[43mgeneric\u001b[49m\u001b[38;5;241;43m.\u001b[39;49m\u001b[43mNDFrame\u001b[49m\u001b[38;5;241;43m.\u001b[39;49m\u001b[38;5;21;43m__init__\u001b[39;49m\u001b[43m(\u001b[49m\u001b[38;5;28;43mself\u001b[39;49m\u001b[43m,\u001b[49m\u001b[43m \u001b[49m\u001b[43mdata\u001b[49m\u001b[43m)\u001b[49m\n\u001b[1;32m    369\u001b[0m \u001b[38;5;28mself\u001b[39m\u001b[38;5;241m.\u001b[39mname \u001b[38;5;241m=\u001b[39m name\n\u001b[1;32m    370\u001b[0m \u001b[38;5;28mself\u001b[39m\u001b[38;5;241m.\u001b[39m_set_axis(\u001b[38;5;241m0\u001b[39m, index, fastpath\u001b[38;5;241m=\u001b[39m\u001b[38;5;28;01mTrue\u001b[39;00m)\n",
      "File \u001b[0;32m/Library/Frameworks/Python.framework/Versions/3.8/lib/python3.8/site-packages/pandas/core/generic.py:204\u001b[0m, in \u001b[0;36mNDFrame.__init__\u001b[0;34m(self, data, copy, attrs)\u001b[0m\n\u001b[1;32m    202\u001b[0m     attrs \u001b[38;5;241m=\u001b[39m \u001b[38;5;28mdict\u001b[39m(attrs)\n\u001b[1;32m    203\u001b[0m \u001b[38;5;28mobject\u001b[39m\u001b[38;5;241m.\u001b[39m\u001b[38;5;21m__setattr__\u001b[39m(\u001b[38;5;28mself\u001b[39m, \u001b[38;5;124m\"\u001b[39m\u001b[38;5;124m_attrs\u001b[39m\u001b[38;5;124m\"\u001b[39m, attrs)\n\u001b[0;32m--> 204\u001b[0m \u001b[38;5;28mobject\u001b[39m\u001b[38;5;241m.\u001b[39m\u001b[38;5;21m__setattr__\u001b[39m(\u001b[38;5;28mself\u001b[39m, \u001b[38;5;124m\"\u001b[39m\u001b[38;5;124m_flags\u001b[39m\u001b[38;5;124m\"\u001b[39m, \u001b[43mFlags\u001b[49m\u001b[43m(\u001b[49m\u001b[38;5;28;43mself\u001b[39;49m\u001b[43m,\u001b[49m\u001b[43m \u001b[49m\u001b[43mallows_duplicate_labels\u001b[49m\u001b[38;5;241;43m=\u001b[39;49m\u001b[38;5;28;43;01mTrue\u001b[39;49;00m\u001b[43m)\u001b[49m)\n",
      "File \u001b[0;32m/Library/Frameworks/Python.framework/Versions/3.8/lib/python3.8/site-packages/pandas/core/flags.py:48\u001b[0m, in \u001b[0;36mFlags.__init__\u001b[0;34m(self, obj, allows_duplicate_labels)\u001b[0m\n\u001b[1;32m     47\u001b[0m \u001b[38;5;28;01mdef\u001b[39;00m \u001b[38;5;21m__init__\u001b[39m(\u001b[38;5;28mself\u001b[39m, obj, \u001b[38;5;241m*\u001b[39m, allows_duplicate_labels):\n\u001b[0;32m---> 48\u001b[0m     \u001b[38;5;28;43mself\u001b[39;49m\u001b[38;5;241;43m.\u001b[39;49m\u001b[43m_allows_duplicate_labels\u001b[49m \u001b[38;5;241m=\u001b[39m allows_duplicate_labels\n\u001b[1;32m     49\u001b[0m     \u001b[38;5;28mself\u001b[39m\u001b[38;5;241m.\u001b[39m_obj \u001b[38;5;241m=\u001b[39m weakref\u001b[38;5;241m.\u001b[39mref(obj)\n",
      "\u001b[0;31mKeyboardInterrupt\u001b[0m: "
     ]
    }
   ],
   "source": [
    "#driver code\n",
    "\n",
    "#keepClustering is a boolean that checks if the cluster centers have changed, if not then it stops the loop\n",
    "keepClustering = True\n",
    "while keepClustering:\n",
    "    print(\"CURR CENTER:\")\n",
    "    print(centers)\n",
    "    clusters = {}\n",
    "    #this part goes through and finds which center each point/song is closest to and saves it under clusters\n",
    "    for (index,song) in df.iterrows():\n",
    "        currMin = 100000000\n",
    "        curr = 0\n",
    "        for i in range(len(centers)):\n",
    "            if calcDist(song,df.iloc[centers[i]]) < currMin:\n",
    "                currMin = calcDist(song,df.iloc[centers[i]])\n",
    "                curr = centers[i]\n",
    "        if curr in clusters:\n",
    "            clusters[curr].append(index)\n",
    "        else:\n",
    "            clusters[curr] = [index]\n",
    "    #print(clusters)\n",
    "    #calculate the new numerical center for each cluster\n",
    "    newPoints = calcNewCenter()\n",
    "    #calculate the actual indices of points that are closest to the numerical center\n",
    "    newCenterPoints = calcNewCenterPoints()\n",
    "    #check if the new centers and the old centers are equal.\n",
    "    # if they are equal then the boolaen is false, and clustering is finished\n",
    "    \n",
    "    \n",
    "    #need to make function that checks if each new center is within some value of old center \n",
    "    keepClustering = False\n",
    "    for x in range(len(newCenterPoints)):\n",
    "        if newCenterPoints[x] != centers[x]:\n",
    "            keepClustering = True\n",
    "            break\n",
    "    #assigning the centers array the new center point indices\n",
    "    centers = newCenterPoints\n",
    "print(\"DONE! FINAL CENTERS:\")\n",
    "print(centers)"
   ]
  },
  {
   "cell_type": "code",
   "execution_count": null,
   "id": "a3773037",
   "metadata": {},
   "outputs": [],
   "source": [
    "# For each cluster, create a dataframe of songs in that cluster\n",
    "# then for that dataframe, plot the number of songs under each year\n",
    "df['release_year'] = yearsDF\n",
    "x = []\n",
    "for cluster in clusters:\n",
    "    temp = []\n",
    "    temp.append(df.iloc[cluster])\n",
    "    for songIndex in clusters[cluster]:\n",
    "        temp.append(df.iloc[songIndex])\n",
    "    x.append(pd.DataFrame(temp))\n",
    "\n",
    "x[0]['release_year'].value_counts().plot(kind='bar',title=str(\"H0\"))"
   ]
  },
  {
   "cell_type": "code",
   "execution_count": null,
   "id": "6d41ee7e",
   "metadata": {},
   "outputs": [],
   "source": [
    "x[1]['release_year'].value_counts().plot(kind='bar',title=str(\"H1\"))"
   ]
  },
  {
   "cell_type": "code",
   "execution_count": null,
   "id": "e35b39e6",
   "metadata": {},
   "outputs": [],
   "source": [
    "x[2]['release_year'].value_counts().plot(kind='bar',title=str(\"H2\"))"
   ]
  },
  {
   "cell_type": "code",
   "execution_count": null,
   "id": "fe4892df",
   "metadata": {},
   "outputs": [],
   "source": [
    "x[3]['release_year'].value_counts().plot(kind='bar',title=str(\"H3\"))"
   ]
  }
 ],
 "metadata": {
  "kernelspec": {
   "display_name": "Python 3 (ipykernel)",
   "language": "python",
   "name": "python3"
  },
  "language_info": {
   "codemirror_mode": {
    "name": "ipython",
    "version": 3
   },
   "file_extension": ".py",
   "mimetype": "text/x-python",
   "name": "python",
   "nbconvert_exporter": "python",
   "pygments_lexer": "ipython3",
   "version": "3.8.5"
  }
 },
 "nbformat": 4,
 "nbformat_minor": 5
}
