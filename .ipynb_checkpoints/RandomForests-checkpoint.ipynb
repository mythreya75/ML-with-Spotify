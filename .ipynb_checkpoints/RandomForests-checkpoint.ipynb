{
 "cells": [
  {
   "cell_type": "code",
   "execution_count": 9,
   "id": "ec0c0167",
   "metadata": {},
   "outputs": [],
   "source": [
    "import pandas as pd\n",
    "import numpy as np"
   ]
  },
  {
   "cell_type": "code",
   "execution_count": 19,
   "id": "c7801700",
   "metadata": {},
   "outputs": [],
   "source": [
    "dataset = pd.read_csv(\"out.csv\")"
   ]
  },
  {
   "cell_type": "code",
   "execution_count": 93,
   "id": "77395c81",
   "metadata": {},
   "outputs": [],
   "source": [
    "X = dataset.iloc[:,1:13].values\n",
    "y = dataset.iloc[:, 13].values"
   ]
  },
  {
   "cell_type": "code",
   "execution_count": 94,
   "id": "e61151de",
   "metadata": {},
   "outputs": [],
   "source": [
    "from sklearn.model_selection import train_test_split\n",
    "X_train, X_test, y_train, y_test = train_test_split(X, y, test_size=0.25, random_state=0)"
   ]
  },
  {
   "cell_type": "code",
   "execution_count": 111,
   "id": "9984751f",
   "metadata": {},
   "outputs": [],
   "source": [
    "from sklearn.ensemble import RandomForestClassifier\n",
    "classifier = RandomForestClassifier(n_estimators=1000, random_state=530)\n",
    "classifier.fit(X_train, y_train)\n",
    "prediction = classifier.predict(X_test)"
   ]
  },
  {
   "cell_type": "code",
   "execution_count": 112,
   "id": "a0c48b60",
   "metadata": {},
   "outputs": [
    {
     "name": "stdout",
     "output_type": "stream",
     "text": [
      "[[  0   0   0 ...   1   0   0]\n",
      " [  0   0   0 ...   0   0   0]\n",
      " [  0   0   0 ...   0   0   0]\n",
      " ...\n",
      " [  0   0   0 ... 225  27   3]\n",
      " [  0   0   0 ... 150  33   3]\n",
      " [  0   0   0 ...  69  20   2]]\n",
      "              precision    recall  f1-score   support\n",
      "\n",
      "        1986       0.00      0.00      0.00         1\n",
      "        1988       0.00      0.00      0.00         3\n",
      "        1990       0.00      0.00      0.00         2\n",
      "        1991       0.00      0.00      0.00         5\n",
      "        1992       0.00      0.00      0.00         1\n",
      "        1993       0.00      0.00      0.00         7\n",
      "        1994       0.00      0.00      0.00        13\n",
      "        1995       0.33      0.12      0.18         8\n",
      "        1996       0.11      0.08      0.09        25\n",
      "        1997       0.29      0.12      0.17        17\n",
      "        1998       0.36      0.14      0.20        29\n",
      "        1999       0.17      0.09      0.12        33\n",
      "        2000       0.10      0.08      0.09        25\n",
      "        2001       0.10      0.08      0.09        38\n",
      "        2002       0.14      0.04      0.07        23\n",
      "        2003       0.16      0.10      0.12        30\n",
      "        2004       0.00      0.00      0.00        41\n",
      "        2005       0.00      0.00      0.00        43\n",
      "        2006       0.10      0.03      0.04        38\n",
      "        2007       0.00      0.00      0.00        26\n",
      "        2008       0.00      0.00      0.00        26\n",
      "        2009       0.18      0.05      0.07        44\n",
      "        2010       0.25      0.11      0.16        44\n",
      "        2011       0.16      0.07      0.10        67\n",
      "        2012       0.21      0.12      0.15        94\n",
      "        2013       0.11      0.02      0.04        91\n",
      "        2014       0.11      0.02      0.04        89\n",
      "        2015       0.11      0.06      0.08       143\n",
      "        2016       0.17      0.11      0.13       235\n",
      "        2017       0.13      0.13      0.13       307\n",
      "        2018       0.20      0.31      0.25       529\n",
      "        2019       0.20      0.28      0.23       510\n",
      "        2020       0.21      0.42      0.28       535\n",
      "        2021       0.15      0.08      0.11       396\n",
      "        2022       0.08      0.01      0.02       196\n",
      "\n",
      "    accuracy                           0.19      3714\n",
      "   macro avg       0.12      0.08      0.08      3714\n",
      "weighted avg       0.16      0.19      0.16      3714\n",
      "\n",
      "0.1855142703284868\n"
     ]
    },
    {
     "name": "stderr",
     "output_type": "stream",
     "text": [
      "/Users/mythreyavangapandu/opt/anaconda3/lib/python3.9/site-packages/sklearn/metrics/_classification.py:1248: UndefinedMetricWarning: Precision and F-score are ill-defined and being set to 0.0 in labels with no predicted samples. Use `zero_division` parameter to control this behavior.\n",
      "  _warn_prf(average, modifier, msg_start, len(result))\n",
      "/Users/mythreyavangapandu/opt/anaconda3/lib/python3.9/site-packages/sklearn/metrics/_classification.py:1248: UndefinedMetricWarning: Precision and F-score are ill-defined and being set to 0.0 in labels with no predicted samples. Use `zero_division` parameter to control this behavior.\n",
      "  _warn_prf(average, modifier, msg_start, len(result))\n",
      "/Users/mythreyavangapandu/opt/anaconda3/lib/python3.9/site-packages/sklearn/metrics/_classification.py:1248: UndefinedMetricWarning: Precision and F-score are ill-defined and being set to 0.0 in labels with no predicted samples. Use `zero_division` parameter to control this behavior.\n",
      "  _warn_prf(average, modifier, msg_start, len(result))\n"
     ]
    }
   ],
   "source": [
    "from sklearn.metrics import classification_report, confusion_matrix, accuracy_score\n",
    "print(confusion_matrix(y_test, prediction))\n",
    "print(classification_report(y_test, prediction))\n",
    "print(accuracy_score(y_test, prediction))\n"
   ]
  }
 ],
 "metadata": {
  "kernelspec": {
   "display_name": "Python 3 (ipykernel)",
   "language": "python",
   "name": "python3"
  },
  "language_info": {
   "codemirror_mode": {
    "name": "ipython",
    "version": 3
   },
   "file_extension": ".py",
   "mimetype": "text/x-python",
   "name": "python",
   "nbconvert_exporter": "python",
   "pygments_lexer": "ipython3",
   "version": "3.9.7"
  }
 },
 "nbformat": 4,
 "nbformat_minor": 5
}
