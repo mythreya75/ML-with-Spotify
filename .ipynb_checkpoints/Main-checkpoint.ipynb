{
 "cells": [
  {
   "cell_type": "markdown",
   "id": "fdd4ab1c",
   "metadata": {},
   "source": [
    "# Machine Learning and Hip-Hop\n",
    "## Imports\n",
    "\n",
    "##### We will need the following packages:\n",
    "* Spotipy\n",
    "    * Access to Spotify API with Python\n",
    "    * Spotipy oauth for authorization\n",
    "* pandas\n",
    "    * Dataframes and data visualization"
   ]
  },
  {
   "cell_type": "code",
   "execution_count": null,
   "id": "0b2415c5",
   "metadata": {},
   "outputs": [],
   "source": [
    "import spotipy\n",
    "import pandas as pd\n",
    "from spotipy.oauth2 import SpotifyClientCredentials\n",
    "spotify = spotipy.Spotify(client_credentials_manager=\\\n",
    "                          SpotifyClientCredentials(client_id='10abcd80153e480aa1309b5782db7a0a',\\\n",
    "                                                   client_secret='c6c037c908344f439fe469dcfbfb8918'),\\\n",
    "                                                      requests_timeout=50)"
   ]
  },
  {
   "cell_type": "code",
   "execution_count": null,
   "id": "6f4f2f70",
   "metadata": {},
   "outputs": [],
   "source": [
    "# Username and playlist URIs\n",
    "my_uri = 'spotify:user:mythreya75'\n",
    "bruh_uri = 'spotify:playlist:5aSx3MwComNfCHqbl5AILS'\n",
    "#dftr_uri = 'spotify:playlist:64qKTfGYPzL8eOqqYrLrSy'\n",
    "edm_uri = 'spotify:playlist:6n1PxIopr5Sz60VBwDGpuq'\n",
    "\n",
    "# The longest rap playlist(415H)\n",
    "carl_uri = 'spotify:user:wc167m3f2872orl0152wn1gwg'\n",
    "carlsPlaylistURI = 'spotify:playlist:6Qn4VdrEu9pUrPZBVZTE6C'\n",
    "\n",
    "# Bumps 2.0 (my playlist)\n",
    "bumps = 'spotify:playlist:1iVtAjR9ZFFkTcAoOlDqpf'\n",
    "\n",
    "# The Rap Guru playlist by J. Bond\n",
    "rapGuru = 'spotify:playlist:2528sgfq9xcGXl5t3u0uxl'\n",
    "jBond = 'spotify:user:1252421638'\n",
    "\n",
    "# Adding Evolution of Rap by chrisdaniels503\n",
    "evolRap = 'spotify:playlist:4OfrDE8E2uDG4LvZrVulp9'\n",
    "chrisd = 'spotify:user:chrisdaniels503'\n",
    "\n",
    "# The Longest Rap Mix by Shay Kyser\n",
    "shay = 'spotify:user:22nd4b3lwdmz2ofxgrgsdwiiq'\n",
    "rapMix = 'spotify:playlist:17jpHzURZPYRY91mMsNWX4'\n",
    "\n",
    "# Every tupac song by Sion\n",
    "sion_uri = 'spotify:user:kz0syi26552pjbac0m4e9t2ct'\n",
    "everyTupac = 'spotify:playlist:2BMe9e8C05vTFJ8cso5cwd'\n",
    "\n",
    "# (Almost) Every 50 Cent song by TJ\n",
    "tj_uri = 'spotify:user:r2ggj4my8d3claivbm5ecrwa6'\n",
    "fifty = 'spotify:playlist:0yqWCwcqLzEYxN9GfiBw0T'\n",
    "\n",
    "# Every Eminem song by Braxton Powers\n",
    "braxton = 'spotify:user:go9q1qbwz4r0lr17i6sgwoz27'\n",
    "em = 'spotify:playlist:6RM9tl0lQFv5QwyqL8SI3D'\n",
    "\n",
    "# All Drake Songs On Spotify\n",
    "bandicoot = 'spotify:user:benbellenger'\n",
    "drakeSongs = 'spotify:playlist:7b46c5syjtG86a77R7SnMs'\n",
    "\n",
    "# Htirbd by Kev\n",
    "saintkev = 'spotify:user:ksamraj15'\n",
    "htirbd = 'spotify:playlist:2vT3Hk2DmjUmjpf8tqExu5'\n",
    "\n",
    "# The longest, Best Rap Playlist of All Time by Andy Arson Newton\n",
    "andy = 'spotify:user:1236304360'\n",
    "bestRap = 'spotify:playlist:1jbE9QFLknBMs1CJaAhLCC'\n",
    "\n",
    "# List of playlists for getAllTracks to iterate through \n",
    "# playlistURI_List = [[bruh_uri, my_username],[edm_uri, my_username]]\n",
    "playlistURI_List = [[carlsPlaylistURI, carl_uri],[bumps, my_uri],\\\n",
    "                    [rapGuru, jBond], [evolRap, chrisd], [rapMix, shay],\\\n",
    "                    [everyTupac, sion_uri], [fifty, tj_uri], [em, braxton], \\\n",
    "                    [drakeSongs, bandicoot], [htirbd, saintkev], [bestRap, andy]]\n"
   ]
  },
  {
   "cell_type": "code",
   "execution_count": null,
   "id": "0147a7d9",
   "metadata": {},
   "outputs": [],
   "source": [
    "# The longest, Best Rap Playlist of All Time by Andy Arson Newton\n",
    "andy = 'spotify:user:1236304360'\n",
    "bestRap = 'spotify:playlist:1jbE9QFLknBMs1CJaAhLCC'\n",
    "\n",
    "tracksAndFeatures = addPlaylist(andy, bestRap, tracksAndFeatures)\n",
    "len(tracksAndFeatures)"
   ]
  },
  {
   "cell_type": "code",
   "execution_count": null,
   "id": "69fdb14f",
   "metadata": {},
   "outputs": [],
   "source": [
    "def get_playlist_tracks(username,playlist_id):\n",
    "    results = spotify.user_playlist_tracks(username,playlist_id)\n",
    "    tracks = results['items']\n",
    "    while results['next']:\n",
    "        results = spotify.next(results)\n",
    "        tracks.extend(results['items'])\n",
    "        \n",
    "    return tracks\n",
    "\n",
    "# Finds track features for a every song in a playlist\n",
    "# Parameters => username, playlistURI\n",
    "# Returns => dictionary of tracks and features \n",
    "# (track_features[track_name] = feature_data)\n",
    "def findTrackFeatures(username, playlistURI):\n",
    "    count = 1\n",
    "    offset = 100\n",
    "    playlistDict = get_playlist_tracks(username, playlistURI)\n",
    "    track_features = {}\n",
    "    for track in playlistDict:\n",
    "        if count % offset == 0 or count == 1:\n",
    "            print(f\"Fetched {count}/{len(playlistDict)} songs\")\n",
    "        elif count == len(playlistDict):\n",
    "            print(f\"Fetched all songs!\")\n",
    "        try:  \n",
    "            trackID = track['track']['id']\n",
    "            track_year = track['track']['album']['release_date'][:4]\n",
    "            feature_data = list(spotify.audio_features(trackID)[0].values())\n",
    "            feature_data.append(track_year)\n",
    "            # print(spotify.audio_features(ids)[0])\n",
    "            track_features[track['track']['name']] = feature_data\n",
    "            count += 1\n",
    "        except: pass\n",
    "    \n",
    "    return track_features\n",
    "\n",
    "# Combines track_features dictionaries for every playlist in playlistURI_list\n",
    "# Parameters => playlists (list of playlists)\n",
    "# Returns => every tracksAndFeatures in every playlist from input\n",
    "def getAllTracks(playlists):\n",
    "    all_tracks = {}\n",
    "    for playlist in playlists:\n",
    "        playlistURI = playlist[0]\n",
    "        # Display playlist label\n",
    "        print(spotify.playlist(playlist_id=playlistURI,fields=\"name\")['name'], end=\":\\n\")\n",
    "        \n",
    "        user = playlist[1]\n",
    "        \n",
    "        newPlaylistTrackFeatures = findTrackFeatures(user, playlistURI)\n",
    "        # This syntax lets you effectively concatenate a dictionary\n",
    "        # all_tracks[track name] = feature_data\n",
    "        all_tracks = all_tracks | newPlaylistTrackFeatures\n",
    "        print(\"\\n\")\n",
    "        \n",
    "    return all_tracks\n",
    "\n",
    "tracksAndFeatures = getAllTracks(playlistURI_List)"
   ]
  },
  {
   "cell_type": "code",
   "execution_count": null,
   "id": "1b61149d",
   "metadata": {},
   "outputs": [],
   "source": [
    "# Add a playlist's songs to the current library\n",
    "\n",
    "def addPlaylist(username, playlistURI, tracksWithFeatures):\n",
    "    tracksWithFeatures = tracksWithFeatures | getAllTracks([[playlistURI, username]])\n",
    "    return tracksWithFeatures"
   ]
  },
  {
   "cell_type": "code",
   "execution_count": null,
   "id": "439dc928",
   "metadata": {},
   "outputs": [],
   "source": [
    "# Checking how much length of library has increaseed\n",
    "len(tracksAndFeatures)"
   ]
  },
  {
   "cell_type": "code",
   "execution_count": null,
   "id": "a4c428be",
   "metadata": {},
   "outputs": [],
   "source": [
    "# Creating dataframe\n",
    "pd.set_option('display.max_rows', None)\n",
    "raw_df = pd.DataFrame.from_dict(tracksAndFeatures, orient=\"index\", columns=['danceability', 'energy','key', \\\n",
    "                                                                        'loudness', 'mode', 'speechiness',\\\n",
    "                                                                        'acousticness', 'instrumentalness', \\\n",
    "                                                                        'liveness', 'valence', 'tempo', 'type',\\\n",
    "                                                                        'id', 'uri', 'track_href', 'analysis_url',\\\n",
    "                                                                        'duration_ms', 'time_signature',\\\n",
    "                                                                        'release_year'])"
   ]
  },
  {
   "cell_type": "code",
   "execution_count": null,
   "id": "6c8a04bd",
   "metadata": {},
   "outputs": [],
   "source": [
    "spotifyFeatures = raw_df[['danceability','energy','key',\\\n",
    "                      'loudness','mode','speechiness',\\\n",
    "                      'acousticness','instrumentalness', 'liveness',\\\n",
    "                      'valence','tempo', 'duration_ms', 'release_year']]\n",
    "spotifyFeatures"
   ]
  },
  {
   "cell_type": "code",
   "execution_count": null,
   "id": "e4734268",
   "metadata": {},
   "outputs": [],
   "source": [
    "# Plot year distribution\n",
    "yearCount = spotifyFeatures['release_year'].value_counts().plot(kind='bar', sort_columns=True)"
   ]
  },
  {
   "cell_type": "code",
   "execution_count": null,
   "id": "8908fb48",
   "metadata": {},
   "outputs": [],
   "source": []
  }
 ],
 "metadata": {
  "kernelspec": {
   "display_name": "Python 3 (ipykernel)",
   "language": "python",
   "name": "python3"
  },
  "language_info": {
   "codemirror_mode": {
    "name": "ipython",
    "version": 3
   },
   "file_extension": ".py",
   "mimetype": "text/x-python",
   "name": "python",
   "nbconvert_exporter": "python",
   "pygments_lexer": "ipython3",
   "version": "3.9.7"
  }
 },
 "nbformat": 4,
 "nbformat_minor": 5
}
